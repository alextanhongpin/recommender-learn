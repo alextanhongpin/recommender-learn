{
 "cells": [
  {
   "cell_type": "code",
   "execution_count": 81,
   "id": "a71a3eda-7d85-4525-9882-a7f791e90d08",
   "metadata": {},
   "outputs": [],
   "source": [
    "import numpy as np\n",
    "import pandas as pd\n",
    "from implicit.cpu.als import AlternatingLeastSquares\n",
    "from implicit.nearest_neighbours import BM25Recommender, TFIDFRecommender\n",
    "from implicit.cpu.bpr import BayesianPersonalizedRanking\n",
    "from scipy.sparse import coo_matrix, csr_matrix\n",
    "from sklearn.feature_extraction.text import CountVectorizer, TfidfVectorizer"
   ]
  },
  {
   "cell_type": "code",
   "execution_count": 55,
   "id": "5901536a-ca2f-47c3-b101-7e11a3b98c13",
   "metadata": {},
   "outputs": [],
   "source": [
    "corpus = [\n",
    "    \"I have a cat\",\n",
    "    \"This cat of mine is cute\",\n",
    "    \"The weather is amazing\",\n",
    "    \"Playing sports on the weekend...\",\n",
    "    \"An Item-Item Recommender on TF-IDF distances between items\",\n",
    "    \"An Item-Item Recommender on BM25 distance between items\",\n",
    "]"
   ]
  },
  {
   "cell_type": "code",
   "execution_count": 61,
   "id": "94e6a620-5f0f-4f9d-a882-2b2387382eda",
   "metadata": {},
   "outputs": [
    {
     "data": {
      "text/plain": [
       "<Compressed Sparse Row sparse matrix of dtype 'int64'\n",
       "\twith 34 stored elements and shape (24, 6)>"
      ]
     },
     "execution_count": 61,
     "metadata": {},
     "output_type": "execute_result"
    }
   ],
   "source": [
    "data = CountVectorizer().fit_transform(corpus).T.tocsr()\n",
    "data"
   ]
  },
  {
   "cell_type": "code",
   "execution_count": 62,
   "id": "2454d8e3-04c6-4017-ab27-be8b940c35d2",
   "metadata": {},
   "outputs": [
    {
     "name": "stderr",
     "output_type": "stream",
     "text": [
      "/Users/alextanhongpin/Documents/go/recommender-learn/.venv/lib/python3.12/site-packages/implicit/utils.py:164: ParameterWarning: Method expects CSR input, and was passed coo_matrix instead. Converting to CSR took 9.202957153320312e-05 seconds\n",
      "  warnings.warn(\n"
     ]
    },
    {
     "data": {
      "application/vnd.jupyter.widget-view+json": {
       "model_id": "03f85b25e9954d48902bcf33dcfbfe8f",
       "version_major": 2,
       "version_minor": 0
      },
      "text/plain": [
       "  0%|          | 0/6 [00:00<?, ?it/s]"
      ]
     },
     "metadata": {},
     "output_type": "display_data"
    }
   ],
   "source": [
    "model = TFIDFRecommender()\n",
    "model.fit(data)"
   ]
  },
  {
   "cell_type": "code",
   "execution_count": 63,
   "id": "4a26f3e6-87d1-4d04-b680-0faaa8ea07a0",
   "metadata": {},
   "outputs": [
    {
     "data": {
      "text/plain": [
       "(array(['I have a cat', 'This cat of mine is cute'], dtype='<U58'),\n",
       " array([1.        , 0.15372732]))"
      ]
     },
     "execution_count": 63,
     "metadata": {},
     "output_type": "execute_result"
    }
   ],
   "source": [
    "ids, scores = model.similar_items(0)\n",
    "\n",
    "np.array(corpus)[ids], scores"
   ]
  },
  {
   "cell_type": "code",
   "execution_count": 64,
   "id": "27e2f5f0-349f-4832-92d4-cbcce825bdb5",
   "metadata": {},
   "outputs": [
    {
     "data": {
      "text/plain": [
       "(array(['An Item-Item Recommender on TF-IDF distances between items',\n",
       "        'An Item-Item Recommender on BM25 distance between items',\n",
       "        'Playing sports on the weekend...'], dtype='<U58'),\n",
       " array([1.        , 0.50495891, 0.03082585]))"
      ]
     },
     "execution_count": 64,
     "metadata": {},
     "output_type": "execute_result"
    }
   ],
   "source": [
    "ids, scores = model.similar_items(4)\n",
    "\n",
    "np.array(corpus)[ids], scores"
   ]
  },
  {
   "cell_type": "code",
   "execution_count": 74,
   "id": "48a8bf5f-d721-41f6-9419-6157ebb4846c",
   "metadata": {},
   "outputs": [
    {
     "name": "stderr",
     "output_type": "stream",
     "text": [
      "/Users/alextanhongpin/Documents/go/recommender-learn/.venv/lib/python3.12/site-packages/implicit/utils.py:164: ParameterWarning: Method expects CSR input, and was passed coo_matrix instead. Converting to CSR took 0.00010204315185546875 seconds\n",
      "  warnings.warn(\n"
     ]
    },
    {
     "data": {
      "application/vnd.jupyter.widget-view+json": {
       "model_id": "b09114b71c604ea39195b5ba38961e40",
       "version_major": 2,
       "version_minor": 0
      },
      "text/plain": [
       "  0%|          | 0/6 [00:00<?, ?it/s]"
      ]
     },
     "metadata": {},
     "output_type": "display_data"
    }
   ],
   "source": [
    "model = BM25Recommender()\n",
    "model.fit(data)"
   ]
  },
  {
   "cell_type": "code",
   "execution_count": 75,
   "id": "bf801444-e0e2-4b3f-9efd-a79925e8621d",
   "metadata": {},
   "outputs": [
    {
     "data": {
      "text/plain": [
       "(array(['I have a cat', 'This cat of mine is cute'], dtype='<U58'),\n",
       " array([3.19024436, 0.66062289]))"
      ]
     },
     "execution_count": 75,
     "metadata": {},
     "output_type": "execute_result"
    }
   ],
   "source": [
    "ids, scores = model.similar_items(0)\n",
    "\n",
    "np.array(corpus)[ids], scores"
   ]
  },
  {
   "cell_type": "code",
   "execution_count": 77,
   "id": "c5837c16-d3c4-4f5c-b615-d32307d62181",
   "metadata": {},
   "outputs": [
    {
     "data": {
      "text/plain": [
       "(array(['An Item-Item Recommender on TF-IDF distances between items',\n",
       "        'An Item-Item Recommender on BM25 distance between items',\n",
       "        'Playing sports on the weekend...'], dtype='<U58'),\n",
       " array([4.16738964, 2.03144396, 0.13862464]))"
      ]
     },
     "execution_count": 77,
     "metadata": {},
     "output_type": "execute_result"
    }
   ],
   "source": [
    "ids, scores = model.similar_items(4)\n",
    "\n",
    "np.array(corpus)[ids], scores"
   ]
  },
  {
   "cell_type": "code",
   "execution_count": 78,
   "id": "68f67d1b-0440-441a-bea4-a098d01841cb",
   "metadata": {},
   "outputs": [
    {
     "data": {
      "application/vnd.jupyter.widget-view+json": {
       "model_id": "29a888d5972a45c192d6d2aca67160d4",
       "version_major": 2,
       "version_minor": 0
      },
      "text/plain": [
       "  0%|          | 0/15 [00:00<?, ?it/s]"
      ]
     },
     "metadata": {},
     "output_type": "display_data"
    }
   ],
   "source": [
    "model = AlternatingLeastSquares()\n",
    "model.fit(data)"
   ]
  },
  {
   "cell_type": "code",
   "execution_count": 79,
   "id": "ba4d3185-d7f4-487e-a33a-6c8f5a1fc5d5",
   "metadata": {},
   "outputs": [
    {
     "data": {
      "text/plain": [
       "(array(['I have a cat', 'This cat of mine is cute',\n",
       "        'An Item-Item Recommender on TF-IDF distances between items',\n",
       "        'An Item-Item Recommender on BM25 distance between items',\n",
       "        'Playing sports on the weekend...', 'The weather is amazing'],\n",
       "       dtype='<U58'),\n",
       " array([ 1.        ,  0.0580235 , -0.01019325, -0.018768  , -0.0355837 ,\n",
       "        -0.06902261], dtype=float32))"
      ]
     },
     "execution_count": 79,
     "metadata": {},
     "output_type": "execute_result"
    }
   ],
   "source": [
    "ids, scores = model.similar_items(0, N=len(corpus))\n",
    "\n",
    "np.array(corpus)[ids], scores"
   ]
  },
  {
   "cell_type": "code",
   "execution_count": 80,
   "id": "3592f10d-95e6-46f0-bd5f-311a38f6e17d",
   "metadata": {},
   "outputs": [
    {
     "data": {
      "text/plain": [
       "(array(['An Item-Item Recommender on TF-IDF distances between items',\n",
       "        'I have a cat', 'Playing sports on the weekend...',\n",
       "        'This cat of mine is cute', 'The weather is amazing',\n",
       "        'An Item-Item Recommender on BM25 distance between items'],\n",
       "       dtype='<U58'),\n",
       " array([ 0.9999999 , -0.01019325, -0.0163378 , -0.03531621, -0.04957363,\n",
       "        -0.11652993], dtype=float32))"
      ]
     },
     "execution_count": 80,
     "metadata": {},
     "output_type": "execute_result"
    }
   ],
   "source": [
    "ids, scores = model.similar_items(4, N=len(corpus))\n",
    "\n",
    "np.array(corpus)[ids], scores"
   ]
  },
  {
   "cell_type": "code",
   "execution_count": 82,
   "id": "cc2e2fb6-3fa9-4e27-bbc7-715408abd235",
   "metadata": {},
   "outputs": [
    {
     "data": {
      "application/vnd.jupyter.widget-view+json": {
       "model_id": "fb9d96e8b38b481eb7cd593e94b44c5e",
       "version_major": 2,
       "version_minor": 0
      },
      "text/plain": [
       "  0%|          | 0/100 [00:00<?, ?it/s]"
      ]
     },
     "metadata": {},
     "output_type": "display_data"
    }
   ],
   "source": [
    "model = BayesianPersonalizedRanking()\n",
    "model.fit(data)"
   ]
  },
  {
   "cell_type": "code",
   "execution_count": 83,
   "id": "dc9e0154-d4d0-44d6-badb-0d432346f5ef",
   "metadata": {},
   "outputs": [
    {
     "data": {
      "text/plain": [
       "(array(['I have a cat',\n",
       "        'An Item-Item Recommender on BM25 distance between items',\n",
       "        'The weather is amazing', 'Playing sports on the weekend...',\n",
       "        'This cat of mine is cute',\n",
       "        'An Item-Item Recommender on TF-IDF distances between items'],\n",
       "       dtype='<U58'),\n",
       " array([ 1.        ,  0.46750212,  0.0095222 , -0.08070645, -0.457624  ,\n",
       "        -0.4939893 ], dtype=float32))"
      ]
     },
     "execution_count": 83,
     "metadata": {},
     "output_type": "execute_result"
    }
   ],
   "source": [
    "ids, scores = model.similar_items(0, N=len(corpus))\n",
    "\n",
    "np.array(corpus)[ids], scores"
   ]
  },
  {
   "cell_type": "code",
   "execution_count": 84,
   "id": "4319ac73-c33e-40f3-b7be-964a0ff4dbf7",
   "metadata": {},
   "outputs": [
    {
     "data": {
      "text/plain": [
       "(array(['An Item-Item Recommender on TF-IDF distances between items',\n",
       "        'This cat of mine is cute', 'The weather is amazing',\n",
       "        'Playing sports on the weekend...', 'I have a cat',\n",
       "        'An Item-Item Recommender on BM25 distance between items'],\n",
       "       dtype='<U58'),\n",
       " array([ 1.0000001 ,  0.5336009 , -0.26059774, -0.2618611 , -0.4939893 ,\n",
       "        -0.59560174], dtype=float32))"
      ]
     },
     "execution_count": 84,
     "metadata": {},
     "output_type": "execute_result"
    }
   ],
   "source": [
    "ids, scores = model.similar_items(4, N=len(corpus))\n",
    "\n",
    "np.array(corpus)[ids], scores"
   ]
  },
  {
   "cell_type": "code",
   "execution_count": null,
   "id": "e5f68e59-c5c0-48ef-b4c4-ebec7482d0ed",
   "metadata": {},
   "outputs": [],
   "source": []
  }
 ],
 "metadata": {
  "kernelspec": {
   "display_name": "Python 3 (ipykernel)",
   "language": "python",
   "name": "python3"
  },
  "language_info": {
   "codemirror_mode": {
    "name": "ipython",
    "version": 3
   },
   "file_extension": ".py",
   "mimetype": "text/x-python",
   "name": "python",
   "nbconvert_exporter": "python",
   "pygments_lexer": "ipython3",
   "version": "3.12.9"
  }
 },
 "nbformat": 4,
 "nbformat_minor": 5
}

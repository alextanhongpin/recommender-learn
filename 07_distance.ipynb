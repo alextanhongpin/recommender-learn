{
 "cells": [
  {
   "cell_type": "code",
   "execution_count": 1,
   "id": "2edb3af2-0064-42f9-9419-37f8a1b31118",
   "metadata": {},
   "outputs": [
    {
     "data": {
      "text/plain": [
       "array([[0.70710678]])"
      ]
     },
     "execution_count": 1,
     "metadata": {},
     "output_type": "execute_result"
    }
   ],
   "source": [
    "import numpy as np\n",
    "import pandas as pd\n",
    "import seaborn as sns\n",
    "from sklearn.metrics import pairwise_distances\n",
    "from sklearn.metrics.pairwise import PAIRWISE_DISTANCE_FUNCTIONS\n",
    "\n",
    "sns.set()\n",
    "\n",
    "a = np.array([0, 0])\n",
    "b = np.array([0.5, 0.5])\n",
    "c = np.array([1, 1])\n",
    "d = np.array([1, np.nan])\n",
    "\n",
    "\n",
    "pairwise_distances(a.reshape(1, -1), b.reshape(1, -1), ensure_all_finite=True)"
   ]
  },
  {
   "cell_type": "code",
   "execution_count": 2,
   "id": "988b04ea-6d89-4c8b-ac14-f436958afb75",
   "metadata": {},
   "outputs": [
    {
     "data": {
      "text/plain": [
       "array([[1.41421356]])"
      ]
     },
     "execution_count": 2,
     "metadata": {},
     "output_type": "execute_result"
    }
   ],
   "source": [
    "pairwise_distances(a.reshape(1, -1), c.reshape(1, -1))"
   ]
  },
  {
   "cell_type": "code",
   "execution_count": 3,
   "id": "39f4317c-ebe8-497b-9433-e691b471b505",
   "metadata": {},
   "outputs": [
    {
     "data": {
      "text/plain": [
       "array([[1.]])"
      ]
     },
     "execution_count": 3,
     "metadata": {},
     "output_type": "execute_result"
    }
   ],
   "source": [
    "pairwise_distances(a.reshape(1, -1), b.reshape(1, -1), metric=\"cosine\")"
   ]
  },
  {
   "cell_type": "code",
   "execution_count": 4,
   "id": "445b3b68-3f41-4db8-b0ea-bef3758395fb",
   "metadata": {},
   "outputs": [
    {
     "data": {
      "text/plain": [
       "array([[1.]])"
      ]
     },
     "execution_count": 4,
     "metadata": {},
     "output_type": "execute_result"
    }
   ],
   "source": [
    "pairwise_distances(a.reshape(1, -1), c.reshape(1, -1), metric=\"cosine\")"
   ]
  },
  {
   "cell_type": "code",
   "execution_count": 5,
   "id": "5cb4b23c-d95f-437f-89c6-23c306ae91c1",
   "metadata": {},
   "outputs": [
    {
     "data": {
      "text/plain": [
       "array([[1.41421356]])"
      ]
     },
     "execution_count": 5,
     "metadata": {},
     "output_type": "execute_result"
    }
   ],
   "source": [
    "# {'cityblock', 'jaccard', 'cosine', 'braycurtis', 'sokalmichener', 'correlation', 'l1', 'russellrao', 'minkowski', 'rogerstanimoto', 'wminkowski', 'chebyshev', 'nan_euclidean', 'l2', 'sokalsneath', 'mahalanobis', 'dice', 'haversine', 'precomputed', 'seuclidean', 'canberra', 'matching', 'sqeuclidean', 'hamming', 'yule', 'manhattan', 'euclidean'}\n",
    "pairwise_distances(a.reshape(1, -1), d.reshape(1, -1), metric=\"nan_euclidean\")"
   ]
  },
  {
   "cell_type": "code",
   "execution_count": 6,
   "id": "157477f3-c2e2-4745-ad8e-b6caace6ec34",
   "metadata": {},
   "outputs": [
    {
     "data": {
      "text/plain": [
       "{'cityblock': <function sklearn.metrics.pairwise.manhattan_distances(X, Y=None)>,\n",
       " 'cosine': <function sklearn.metrics.pairwise.cosine_distances(X, Y=None)>,\n",
       " 'euclidean': <function sklearn.metrics.pairwise.euclidean_distances(X, Y=None, *, Y_norm_squared=None, squared=False, X_norm_squared=None)>,\n",
       " 'haversine': <function sklearn.metrics.pairwise.haversine_distances(X, Y=None)>,\n",
       " 'l2': <function sklearn.metrics.pairwise.euclidean_distances(X, Y=None, *, Y_norm_squared=None, squared=False, X_norm_squared=None)>,\n",
       " 'l1': <function sklearn.metrics.pairwise.manhattan_distances(X, Y=None)>,\n",
       " 'manhattan': <function sklearn.metrics.pairwise.manhattan_distances(X, Y=None)>,\n",
       " 'precomputed': None,\n",
       " 'nan_euclidean': <function sklearn.metrics.pairwise.nan_euclidean_distances(X, Y=None, *, squared=False, missing_values=nan, copy=True)>}"
      ]
     },
     "execution_count": 6,
     "metadata": {},
     "output_type": "execute_result"
    }
   ],
   "source": [
    "PAIRWISE_DISTANCE_FUNCTIONS"
   ]
  },
  {
   "cell_type": "markdown",
   "id": "692a9823-fcc6-4de8-8885-62154e5547fc",
   "metadata": {},
   "source": [
    "## Pearson correlation\n",
    "\n",
    "**Disadvantages of Pearson Correlation:**\n",
    "\n",
    "1. **Linearity assumption**: Pearson correlation assumes a linear relationship between two variables, which may not always be the case in real-world data.\n",
    "2. **Normality requirement**: Pearson correlation requires normality of both variables, which can be problematic if the data is skewed or has outliers.\n",
    "3. **Assumes equal variances**: Pearson correlation assumes that the variances of both variables are equal, which may not be true in all cases.\n",
    "4. **Sensitive to outliers**: Pearson correlation can be heavily influenced by outliers, which can lead to biased results.\n",
    "5. **Limited interpretability**: The result of a Pearson correlation coefficient does not provide direct insights into the nature of the relationship between the two variables.\n",
    "\n",
    "**Better Alternatives for Similarity Calculation:**\n",
    "\n",
    "1. **Kendall's Tau (K)**: Kendall's Tau is a non-parametric measure that ranks both variables and calculates the proportion of concordant pairs. It is less sensitive to outliers and does not require normality.\n",
    "2. **Spearman's Rank Correlation Coefficient**: Similar to Kendall's Tau, Spearman's coefficient also uses ranking but has a different interpretation. It measures the number of agreements between rankings rather than concordance.\n",
    "3. **Mutual Information (MI)**: Mutual Information is a measure that calculates the mutual dependence between two variables. It is robust to outliers and does not require normality.\n",
    "4. **Cosine Similarity**: Cosine similarity uses vector space methods, such as cosine distance, to calculate similarities between vectors representing data points. This method is particularly useful for high-dimensional data.\n",
    "5. **Distance-based metrics**: Metrics like Euclidean Distance, Mahalanobis Distance, or Minkowski Distance can be used to measure similarities between data points.\n",
    "\n",
    "**When to use each alternative:**\n",
    "\n",
    "* Use Pearson correlation when the relationship is expected to be linear and both variables are normally distributed.\n",
    "* Use Kendall's Tau or Spearman's coefficient when the relationship is non-linear or the data has outliers.\n",
    "* Use Mutual Information when the relationships are complex or non-linear, and you want to measure mutual dependence.\n",
    "* Use Cosine Similarity when working with high-dimensional data or when you want to leverage vector space methods.\n",
    "* Use Distance-based metrics when you need a metric that accounts for both magnitude and direction of differences between data points.\n",
    "\n",
    "In summary, while Pearson correlation is still widely used, it has limitations. The choice of alternative depends on the nature of your data, the type of relationship you're trying to capture, and the characteristics of your dataset.\n",
    "\n"
   ]
  },
  {
   "cell_type": "code",
   "execution_count": 7,
   "id": "78362fc3-3efa-438b-839d-643418379283",
   "metadata": {},
   "outputs": [
    {
     "data": {
      "text/html": [
       "<div>\n",
       "<style scoped>\n",
       "    .dataframe tbody tr th:only-of-type {\n",
       "        vertical-align: middle;\n",
       "    }\n",
       "\n",
       "    .dataframe tbody tr th {\n",
       "        vertical-align: top;\n",
       "    }\n",
       "\n",
       "    .dataframe thead th {\n",
       "        text-align: right;\n",
       "    }\n",
       "</style>\n",
       "<table border=\"1\" class=\"dataframe\">\n",
       "  <thead>\n",
       "    <tr style=\"text-align: right;\">\n",
       "      <th></th>\n",
       "      <th>users</th>\n",
       "      <th>movies</th>\n",
       "      <th>ratings</th>\n",
       "    </tr>\n",
       "  </thead>\n",
       "  <tbody>\n",
       "    <tr>\n",
       "      <th>0</th>\n",
       "      <td>Lisa Rose</td>\n",
       "      <td>Lady in the Water</td>\n",
       "      <td>2.5</td>\n",
       "    </tr>\n",
       "    <tr>\n",
       "      <th>1</th>\n",
       "      <td>Lisa Rose</td>\n",
       "      <td>Snakes on a Plane</td>\n",
       "      <td>3.5</td>\n",
       "    </tr>\n",
       "    <tr>\n",
       "      <th>2</th>\n",
       "      <td>Lisa Rose</td>\n",
       "      <td>Just My Luck</td>\n",
       "      <td>3.0</td>\n",
       "    </tr>\n",
       "    <tr>\n",
       "      <th>3</th>\n",
       "      <td>Lisa Rose</td>\n",
       "      <td>Superman Returns</td>\n",
       "      <td>3.5</td>\n",
       "    </tr>\n",
       "    <tr>\n",
       "      <th>4</th>\n",
       "      <td>Lisa Rose</td>\n",
       "      <td>You, Me and Dupree</td>\n",
       "      <td>2.5</td>\n",
       "    </tr>\n",
       "  </tbody>\n",
       "</table>\n",
       "</div>"
      ],
      "text/plain": [
       "       users              movies  ratings\n",
       "0  Lisa Rose   Lady in the Water      2.5\n",
       "1  Lisa Rose   Snakes on a Plane      3.5\n",
       "2  Lisa Rose        Just My Luck      3.0\n",
       "3  Lisa Rose    Superman Returns      3.5\n",
       "4  Lisa Rose  You, Me and Dupree      2.5"
      ]
     },
     "execution_count": 7,
     "metadata": {},
     "output_type": "execute_result"
    }
   ],
   "source": [
    "df = pd.read_csv(\"rating2.csv\")\n",
    "df.head()"
   ]
  },
  {
   "cell_type": "code",
   "execution_count": 8,
   "id": "35a3b0cf-15c2-4d2e-8a1d-9a57aefe8c1d",
   "metadata": {},
   "outputs": [
    {
     "data": {
      "text/html": [
       "<div>\n",
       "<style scoped>\n",
       "    .dataframe tbody tr th:only-of-type {\n",
       "        vertical-align: middle;\n",
       "    }\n",
       "\n",
       "    .dataframe tbody tr th {\n",
       "        vertical-align: top;\n",
       "    }\n",
       "\n",
       "    .dataframe thead th {\n",
       "        text-align: right;\n",
       "    }\n",
       "</style>\n",
       "<table border=\"1\" class=\"dataframe\">\n",
       "  <thead>\n",
       "    <tr style=\"text-align: right;\">\n",
       "      <th>movies</th>\n",
       "      <th>Just My Luck</th>\n",
       "      <th>Lady in the Water</th>\n",
       "      <th>Snakes on a Plane</th>\n",
       "      <th>Superman Returns</th>\n",
       "      <th>The Night Listener</th>\n",
       "      <th>You, Me and Dupree</th>\n",
       "    </tr>\n",
       "    <tr>\n",
       "      <th>users</th>\n",
       "      <th></th>\n",
       "      <th></th>\n",
       "      <th></th>\n",
       "      <th></th>\n",
       "      <th></th>\n",
       "      <th></th>\n",
       "    </tr>\n",
       "  </thead>\n",
       "  <tbody>\n",
       "    <tr>\n",
       "      <th>Claudia Puig</th>\n",
       "      <td>3.0</td>\n",
       "      <td>NaN</td>\n",
       "      <td>3.5</td>\n",
       "      <td>4.0</td>\n",
       "      <td>4.5</td>\n",
       "      <td>2.5</td>\n",
       "    </tr>\n",
       "    <tr>\n",
       "      <th>Gene Seymour</th>\n",
       "      <td>1.5</td>\n",
       "      <td>3.0</td>\n",
       "      <td>3.5</td>\n",
       "      <td>5.0</td>\n",
       "      <td>3.0</td>\n",
       "      <td>3.5</td>\n",
       "    </tr>\n",
       "    <tr>\n",
       "      <th>Jack Matthews</th>\n",
       "      <td>NaN</td>\n",
       "      <td>3.0</td>\n",
       "      <td>4.0</td>\n",
       "      <td>5.0</td>\n",
       "      <td>3.0</td>\n",
       "      <td>3.5</td>\n",
       "    </tr>\n",
       "    <tr>\n",
       "      <th>Lisa Rose</th>\n",
       "      <td>3.0</td>\n",
       "      <td>2.5</td>\n",
       "      <td>3.5</td>\n",
       "      <td>3.5</td>\n",
       "      <td>3.0</td>\n",
       "      <td>2.5</td>\n",
       "    </tr>\n",
       "    <tr>\n",
       "      <th>Michael Phillips</th>\n",
       "      <td>NaN</td>\n",
       "      <td>2.5</td>\n",
       "      <td>3.0</td>\n",
       "      <td>3.5</td>\n",
       "      <td>4.0</td>\n",
       "      <td>NaN</td>\n",
       "    </tr>\n",
       "    <tr>\n",
       "      <th>Mick LaSalle</th>\n",
       "      <td>2.0</td>\n",
       "      <td>3.0</td>\n",
       "      <td>4.0</td>\n",
       "      <td>3.0</td>\n",
       "      <td>3.0</td>\n",
       "      <td>2.0</td>\n",
       "    </tr>\n",
       "    <tr>\n",
       "      <th>Toby</th>\n",
       "      <td>NaN</td>\n",
       "      <td>NaN</td>\n",
       "      <td>4.5</td>\n",
       "      <td>4.0</td>\n",
       "      <td>NaN</td>\n",
       "      <td>1.0</td>\n",
       "    </tr>\n",
       "  </tbody>\n",
       "</table>\n",
       "</div>"
      ],
      "text/plain": [
       "movies            Just My Luck  Lady in the Water  Snakes on a Plane  \\\n",
       "users                                                                  \n",
       "Claudia Puig               3.0                NaN                3.5   \n",
       "Gene Seymour               1.5                3.0                3.5   \n",
       "Jack Matthews              NaN                3.0                4.0   \n",
       "Lisa Rose                  3.0                2.5                3.5   \n",
       "Michael Phillips           NaN                2.5                3.0   \n",
       "Mick LaSalle               2.0                3.0                4.0   \n",
       "Toby                       NaN                NaN                4.5   \n",
       "\n",
       "movies            Superman Returns  The Night Listener  You, Me and Dupree  \n",
       "users                                                                       \n",
       "Claudia Puig                   4.0                 4.5                 2.5  \n",
       "Gene Seymour                   5.0                 3.0                 3.5  \n",
       "Jack Matthews                  5.0                 3.0                 3.5  \n",
       "Lisa Rose                      3.5                 3.0                 2.5  \n",
       "Michael Phillips               3.5                 4.0                 NaN  \n",
       "Mick LaSalle                   3.0                 3.0                 2.0  \n",
       "Toby                           4.0                 NaN                 1.0  "
      ]
     },
     "execution_count": 8,
     "metadata": {},
     "output_type": "execute_result"
    }
   ],
   "source": [
    "user_items = df.pivot(index=\"users\", columns=\"movies\", values=\"ratings\")\n",
    "user_items"
   ]
  },
  {
   "cell_type": "code",
   "execution_count": 9,
   "id": "df7723c3-ca90-4c09-a53b-6b03007f776f",
   "metadata": {},
   "outputs": [
    {
     "data": {
      "text/html": [
       "<div>\n",
       "<style scoped>\n",
       "    .dataframe tbody tr th:only-of-type {\n",
       "        vertical-align: middle;\n",
       "    }\n",
       "\n",
       "    .dataframe tbody tr th {\n",
       "        vertical-align: top;\n",
       "    }\n",
       "\n",
       "    .dataframe thead th {\n",
       "        text-align: right;\n",
       "    }\n",
       "</style>\n",
       "<table border=\"1\" class=\"dataframe\">\n",
       "  <thead>\n",
       "    <tr style=\"text-align: right;\">\n",
       "      <th>users</th>\n",
       "      <th>Claudia Puig</th>\n",
       "      <th>Gene Seymour</th>\n",
       "      <th>Jack Matthews</th>\n",
       "      <th>Lisa Rose</th>\n",
       "      <th>Michael Phillips</th>\n",
       "      <th>Mick LaSalle</th>\n",
       "      <th>Toby</th>\n",
       "    </tr>\n",
       "    <tr>\n",
       "      <th>users</th>\n",
       "      <th></th>\n",
       "      <th></th>\n",
       "      <th></th>\n",
       "      <th></th>\n",
       "      <th></th>\n",
       "      <th></th>\n",
       "      <th></th>\n",
       "    </tr>\n",
       "  </thead>\n",
       "  <tbody>\n",
       "    <tr>\n",
       "      <th>Claudia Puig</th>\n",
       "      <td>1.000000</td>\n",
       "      <td>0.314970</td>\n",
       "      <td>0.028571</td>\n",
       "      <td>0.566947</td>\n",
       "      <td>1.000000</td>\n",
       "      <td>0.566947</td>\n",
       "      <td>0.893405</td>\n",
       "    </tr>\n",
       "    <tr>\n",
       "      <th>Gene Seymour</th>\n",
       "      <td>0.314970</td>\n",
       "      <td>1.000000</td>\n",
       "      <td>0.963796</td>\n",
       "      <td>0.396059</td>\n",
       "      <td>0.204598</td>\n",
       "      <td>0.411765</td>\n",
       "      <td>0.381246</td>\n",
       "    </tr>\n",
       "    <tr>\n",
       "      <th>Jack Matthews</th>\n",
       "      <td>0.028571</td>\n",
       "      <td>0.963796</td>\n",
       "      <td>1.000000</td>\n",
       "      <td>0.747018</td>\n",
       "      <td>0.134840</td>\n",
       "      <td>0.211289</td>\n",
       "      <td>0.662849</td>\n",
       "    </tr>\n",
       "    <tr>\n",
       "      <th>Lisa Rose</th>\n",
       "      <td>0.566947</td>\n",
       "      <td>0.396059</td>\n",
       "      <td>0.747018</td>\n",
       "      <td>1.000000</td>\n",
       "      <td>0.404520</td>\n",
       "      <td>0.594089</td>\n",
       "      <td>0.991241</td>\n",
       "    </tr>\n",
       "    <tr>\n",
       "      <th>Michael Phillips</th>\n",
       "      <td>1.000000</td>\n",
       "      <td>0.204598</td>\n",
       "      <td>0.134840</td>\n",
       "      <td>0.404520</td>\n",
       "      <td>1.000000</td>\n",
       "      <td>-0.258199</td>\n",
       "      <td>-1.000000</td>\n",
       "    </tr>\n",
       "    <tr>\n",
       "      <th>Mick LaSalle</th>\n",
       "      <td>0.566947</td>\n",
       "      <td>0.411765</td>\n",
       "      <td>0.211289</td>\n",
       "      <td>0.594089</td>\n",
       "      <td>-0.258199</td>\n",
       "      <td>1.000000</td>\n",
       "      <td>0.924473</td>\n",
       "    </tr>\n",
       "    <tr>\n",
       "      <th>Toby</th>\n",
       "      <td>0.893405</td>\n",
       "      <td>0.381246</td>\n",
       "      <td>0.662849</td>\n",
       "      <td>0.991241</td>\n",
       "      <td>-1.000000</td>\n",
       "      <td>0.924473</td>\n",
       "      <td>1.000000</td>\n",
       "    </tr>\n",
       "  </tbody>\n",
       "</table>\n",
       "</div>"
      ],
      "text/plain": [
       "users             Claudia Puig  Gene Seymour  Jack Matthews  Lisa Rose  \\\n",
       "users                                                                    \n",
       "Claudia Puig          1.000000      0.314970       0.028571   0.566947   \n",
       "Gene Seymour          0.314970      1.000000       0.963796   0.396059   \n",
       "Jack Matthews         0.028571      0.963796       1.000000   0.747018   \n",
       "Lisa Rose             0.566947      0.396059       0.747018   1.000000   \n",
       "Michael Phillips      1.000000      0.204598       0.134840   0.404520   \n",
       "Mick LaSalle          0.566947      0.411765       0.211289   0.594089   \n",
       "Toby                  0.893405      0.381246       0.662849   0.991241   \n",
       "\n",
       "users             Michael Phillips  Mick LaSalle      Toby  \n",
       "users                                                       \n",
       "Claudia Puig              1.000000      0.566947  0.893405  \n",
       "Gene Seymour              0.204598      0.411765  0.381246  \n",
       "Jack Matthews             0.134840      0.211289  0.662849  \n",
       "Lisa Rose                 0.404520      0.594089  0.991241  \n",
       "Michael Phillips          1.000000     -0.258199 -1.000000  \n",
       "Mick LaSalle             -0.258199      1.000000  0.924473  \n",
       "Toby                     -1.000000      0.924473  1.000000  "
      ]
     },
     "execution_count": 9,
     "metadata": {},
     "output_type": "execute_result"
    }
   ],
   "source": [
    "# .corr returns the pearson correlation between columns.\n",
    "# To find user-user similarity scores, we transpose the user_items DataFrame.\n",
    "recommendations = user_items.T.corr(\n",
    "    method=\"pearson\"\n",
    ")  # \"pearson\", \"kendall\", \"spearman\"\n",
    "recommendations"
   ]
  },
  {
   "cell_type": "code",
   "execution_count": 10,
   "id": "9eb33988-7543-4ef4-bd57-e9f9eb90dc8f",
   "metadata": {},
   "outputs": [
    {
     "data": {
      "image/png": "[encoded data removed]",
      "text/plain": [
       "<Figure size 640x480 with 2 Axes>"
      ]
     },
     "metadata": {},
     "output_type": "display_data"
    }
   ],
   "source": [
    "sns.heatmap(recommendations, annot=True, cmap=\"Blues\");"
   ]
  },
  {
   "cell_type": "code",
   "execution_count": 11,
   "id": "20e2190a-ca59-45ca-af01-e1740014a05f",
   "metadata": {},
   "outputs": [
    {
     "data": {
      "text/plain": [
       "users\n",
       "Michael Phillips    1.000000\n",
       "Toby                0.893405\n",
       "Lisa Rose           0.566947\n",
       "Mick LaSalle        0.566947\n",
       "Gene Seymour        0.314970\n",
       "Name: Claudia Puig, dtype: float64"
      ]
     },
     "execution_count": 11,
     "metadata": {},
     "output_type": "execute_result"
    }
   ],
   "source": [
    "# To find similar users\n",
    "user = \"Claudia Puig\"\n",
    "n = 5\n",
    "\n",
    "recommendations[user].sort_values(ascending=False).drop(user).head(n)"
   ]
  },
  {
   "cell_type": "markdown",
   "id": "a1602b0d-6f98-40b9-83a8-0610982265d4",
   "metadata": {},
   "source": [
    "The Pearson correlation coefficient is typically written as:\n",
    "\n",
    "$$\\rho = \\frac{\\sum_{i=1}^{n}(x_i - \\bar{x})(y_i - \\bar{y})}{\\sqrt{\\sum_{i=1}^{n}(x_i - \\bar{x})^2}\\sqrt{\\sum_{i=1}^{n}(y_i - \\bar{y})^2}}$$\n",
    "\n",
    "where $x_i$ and $y_i$ are the individual data points, $\\bar{x}$ and $\\bar{y}$ are the means of the respective datasets, and $n$ is the number of data points.\n",
    "\n"
   ]
  },
  {
   "cell_type": "code",
   "execution_count": 12,
   "id": "84b28299-8ac0-4c0f-b7bf-fbac925dec68",
   "metadata": {},
   "outputs": [],
   "source": [
    "def pearson(a, b):\n",
    "    # Only computes the correlation if the values exists in both vector.\n",
    "    mask = pd.notna(a) & pd.notna(b)\n",
    "    s1 = a[mask] - a[mask].mean()\n",
    "    s2 = b[mask] - b[mask].mean()\n",
    "\n",
    "    return (s1 @ s2) / np.sqrt((s1 @ s1) * (s2 @ s2))"
   ]
  },
  {
   "cell_type": "code",
   "execution_count": 13,
   "id": "0cd205a0-4da6-4201-9fc5-6da958d66ea4",
   "metadata": {},
   "outputs": [
    {
     "data": {
      "text/plain": [
       "np.float64(1.0)"
      ]
     },
     "execution_count": 13,
     "metadata": {},
     "output_type": "execute_result"
    }
   ],
   "source": [
    "pearson(user_items.iloc[0], user_items.iloc[0])"
   ]
  },
  {
   "cell_type": "code",
   "execution_count": 14,
   "id": "5ace9d57-237c-4f74-9de0-094cfce7c81f",
   "metadata": {},
   "outputs": [
    {
     "data": {
      "text/plain": [
       "np.float64(0.314970394174356)"
      ]
     },
     "execution_count": 14,
     "metadata": {},
     "output_type": "execute_result"
    }
   ],
   "source": [
    "pearson(user_items.iloc[0], user_items.iloc[1])"
   ]
  },
  {
   "cell_type": "code",
   "execution_count": 15,
   "id": "c444dd0f-6791-49da-b062-820711f13887",
   "metadata": {},
   "outputs": [
    {
     "data": {
      "text/plain": [
       "np.float64(1.0)"
      ]
     },
     "execution_count": 15,
     "metadata": {},
     "output_type": "execute_result"
    }
   ],
   "source": [
    "pearson(user_items.iloc[0], user_items.iloc[4])"
   ]
  }
 ],
 "metadata": {
  "kernelspec": {
   "display_name": "Python 3 (ipykernel)",
   "language": "python",
   "name": "python3"
  },
  "language_info": {
   "codemirror_mode": {
    "name": "ipython",
    "version": 3
   },
   "file_extension": ".py",
   "mimetype": "text/x-python",
   "name": "python",
   "nbconvert_exporter": "python",
   "pygments_lexer": "ipython3",
   "version": "3.12.9"
  }
 },
 "nbformat": 4,
 "nbformat_minor": 5
}

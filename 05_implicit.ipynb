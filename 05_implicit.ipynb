{
 "cells": [
  {
   "cell_type": "code",
   "execution_count": 4,
   "id": "8dda74b3-fabb-4240-8be0-ce751d29ba21",
   "metadata": {},
   "outputs": [
    {
     "data": {
      "application/vnd.jupyter.widget-view+json": {
       "model_id": "065ae3a1c0a54e74a9db572449d95420",
       "version_major": 2,
       "version_minor": 0
      },
      "text/plain": [
       "0.00B [00:00, ?B/s]"
      ]
     },
     "metadata": {},
     "output_type": "display_data"
    }
   ],
   "source": [
    "from implicit.datasets.lastfm import get_lastfm\n",
    "\n",
    "# Location of the file.\n",
    "# import os; os.path.join(os.path.expanduser(\"~\"), \"implicit_datasets\")\n",
    "artists, users, artist_user_plays = get_lastfm()"
   ]
  },
  {
   "cell_type": "code",
   "execution_count": 7,
   "id": "c3d7f508-72c8-4723-9d6a-6493ecdbf6e3",
   "metadata": {},
   "outputs": [
    {
     "data": {
      "text/plain": [
       "array([' 2 ', ' 58725ab=>', ' 80lİ yillarin tÜrkÇe sÖzlÜ aŞk Şarkilari',\n",
       "       ' amy winehouse', ' cours de la somme', ' fatboy slim',\n",
       "       ' kanye west', ' mala rodriguez', ' mohamed lamine',\n",
       "       ' oliver shanti & friends'], dtype=object)"
      ]
     },
     "execution_count": 7,
     "metadata": {},
     "output_type": "execute_result"
    }
   ],
   "source": [
    "artists[:10]"
   ]
  },
  {
   "cell_type": "code",
   "execution_count": 8,
   "id": "c431cc95-a17c-4d5e-a47f-7fd8993bb7a6",
   "metadata": {},
   "outputs": [
    {
     "data": {
      "text/plain": [
       "array(['00000c289a1829a808ac09c00daf10bc3c4e223b',\n",
       "       '00001411dc427966b17297bf4d69e7e193135d89',\n",
       "       '00004d2ac9316e22dc007ab2243d6fcb239e707d',\n",
       "       '000063d3fe1cf2ba248b9e3c3f0334845a27a6bf',\n",
       "       '00007a47085b9aab8af55f52ec8846ac479ac4fe',\n",
       "       '0000c176103e538d5c9828e695fed4f7ae42dd01',\n",
       "       '0000ee7dd906373efa37f4e1185bfe1e3f8695ae',\n",
       "       '0000ef373bbd0d89ce796abae961f2705e8c1faf',\n",
       "       '0000f687d4fe9c1ed49620fbc5ed5b0d7798ea20',\n",
       "       '0001399387da41d557219578fb08b12afa25ab67'], dtype=object)"
      ]
     },
     "execution_count": 8,
     "metadata": {},
     "output_type": "execute_result"
    }
   ],
   "source": [
    "users[:10]"
   ]
  },
  {
   "cell_type": "code",
   "execution_count": 20,
   "id": "dc4377e6-d996-4fc3-8535-559d54263569",
   "metadata": {},
   "outputs": [
    {
     "data": {
      "text/plain": [
       "[(np.int32(0), np.int32(73470), np.float32(32.0)),\n",
       " (np.int32(0), np.int32(97856), np.float32(24.0)),\n",
       " (np.int32(0), np.int32(235382), np.float32(1339.0)),\n",
       " (np.int32(0), np.int32(266072), np.float32(211.0)),\n",
       " (np.int32(1), np.int32(171865), np.float32(23.0)),\n",
       " (np.int32(2), np.int32(180892), np.float32(70.0)),\n",
       " (np.int32(3), np.int32(285031), np.float32(23.0)),\n",
       " (np.int32(4), np.int32(15103), np.float32(9.0)),\n",
       " (np.int32(5), np.int32(81700), np.float32(16.0)),\n",
       " (np.int32(6), np.int32(284057), np.float32(56.0))]"
      ]
     },
     "execution_count": 20,
     "metadata": {},
     "output_type": "execute_result"
    }
   ],
   "source": [
    "X = artist_user_plays.tocoo()\n",
    "list(zip(X.row, X.col, X.data))[:10]"
   ]
  },
  {
   "cell_type": "markdown",
   "id": "bae47dff-e670-4ad6-a044-31ed212960d5",
   "metadata": {},
   "source": [
    "## Training a model"
   ]
  },
  {
   "cell_type": "code",
   "execution_count": 21,
   "id": "a6106c29-cf12-4574-a21c-86af6849cb70",
   "metadata": {},
   "outputs": [],
   "source": [
    "from implicit.nearest_neighbours import bm25_weight\n",
    "\n",
    "# weight the matrix, both to reduce impact of users that have played the same artist thousands of times\n",
    "# and to reduce the weight given to popular items\n",
    "artist_user_plays = bm25_weight(artist_user_plays, K1=100, B=0.8)\n",
    "\n",
    "# get the transpose since the most of the functions in implicit expect (user, item) sparse matrices instead of (item, user)\n",
    "user_plays = artist_user_plays.T.tocsr()"
   ]
  },
  {
   "cell_type": "code",
   "execution_count": 22,
   "id": "05465210-ccd4-440a-ac82-3aff6309046e",
   "metadata": {},
   "outputs": [
    {
     "data": {
      "application/vnd.jupyter.widget-view+json": {
       "model_id": "b9711feb8d184d1a9cbbb2474cc056c9",
       "version_major": 2,
       "version_minor": 0
      },
      "text/plain": [
       "  0%|          | 0/15 [00:00<?, ?it/s]"
      ]
     },
     "metadata": {},
     "output_type": "display_data"
    }
   ],
   "source": [
    "from implicit.als import AlternatingLeastSquares\n",
    "\n",
    "model = AlternatingLeastSquares(factors=64, regularization=0.05, alpha=2.0)\n",
    "model.fit(user_plays)"
   ]
  },
  {
   "cell_type": "markdown",
   "id": "7a62b012-f3ee-4f82-b881-873a2a93387f",
   "metadata": {},
   "source": [
    "## Making Recommendations"
   ]
  },
  {
   "cell_type": "code",
   "execution_count": 23,
   "id": "83fd80a3-38e7-4fce-a6eb-3f0c6c6349ad",
   "metadata": {},
   "outputs": [],
   "source": [
    "# Get recommendations for the a single user\n",
    "userid = 12345\n",
    "ids, scores = model.recommend(\n",
    "    userid, user_plays[userid], N=10, filter_already_liked_items=False\n",
    ")"
   ]
  },
  {
   "cell_type": "code",
   "execution_count": 24,
   "id": "7786856f-67cb-4f21-8bb2-d99cb7f350d0",
   "metadata": {},
   "outputs": [
    {
     "name": "stderr",
     "output_type": "stream",
     "text": [
      "/var/folders/v5/8v9k6wcn65jbbct8spl3wwsh0000gn/T/ipykernel_63163/2636481777.py:9: DeprecationWarning: `in1d` is deprecated. Use `np.isin` instead.\n",
      "  \"already_liked\": np.in1d(ids, user_plays[userid].indices),\n"
     ]
    },
    {
     "data": {
      "text/html": [
       "<div>\n",
       "<style scoped>\n",
       "    .dataframe tbody tr th:only-of-type {\n",
       "        vertical-align: middle;\n",
       "    }\n",
       "\n",
       "    .dataframe tbody tr th {\n",
       "        vertical-align: top;\n",
       "    }\n",
       "\n",
       "    .dataframe thead th {\n",
       "        text-align: right;\n",
       "    }\n",
       "</style>\n",
       "<table border=\"1\" class=\"dataframe\">\n",
       "  <thead>\n",
       "    <tr style=\"text-align: right;\">\n",
       "      <th></th>\n",
       "      <th>artist</th>\n",
       "      <th>score</th>\n",
       "      <th>already_liked</th>\n",
       "    </tr>\n",
       "  </thead>\n",
       "  <tbody>\n",
       "    <tr>\n",
       "      <th>0</th>\n",
       "      <td>devil doll</td>\n",
       "      <td>1.071781</td>\n",
       "      <td>False</td>\n",
       "    </tr>\n",
       "    <tr>\n",
       "      <th>1</th>\n",
       "      <td>spiritual front</td>\n",
       "      <td>1.059486</td>\n",
       "      <td>False</td>\n",
       "    </tr>\n",
       "    <tr>\n",
       "      <th>2</th>\n",
       "      <td>mortiis</td>\n",
       "      <td>1.012859</td>\n",
       "      <td>True</td>\n",
       "    </tr>\n",
       "    <tr>\n",
       "      <th>3</th>\n",
       "      <td>ordo rosarius equilibrio</td>\n",
       "      <td>0.998481</td>\n",
       "      <td>False</td>\n",
       "    </tr>\n",
       "    <tr>\n",
       "      <th>4</th>\n",
       "      <td>rome</td>\n",
       "      <td>0.998062</td>\n",
       "      <td>True</td>\n",
       "    </tr>\n",
       "    <tr>\n",
       "      <th>5</th>\n",
       "      <td>the coffinshakers</td>\n",
       "      <td>0.990920</td>\n",
       "      <td>True</td>\n",
       "    </tr>\n",
       "    <tr>\n",
       "      <th>6</th>\n",
       "      <td>gåte</td>\n",
       "      <td>0.985904</td>\n",
       "      <td>False</td>\n",
       "    </tr>\n",
       "    <tr>\n",
       "      <th>7</th>\n",
       "      <td>arditi</td>\n",
       "      <td>0.981291</td>\n",
       "      <td>True</td>\n",
       "    </tr>\n",
       "    <tr>\n",
       "      <th>8</th>\n",
       "      <td>d-a-d</td>\n",
       "      <td>0.979130</td>\n",
       "      <td>True</td>\n",
       "    </tr>\n",
       "    <tr>\n",
       "      <th>9</th>\n",
       "      <td>the ark</td>\n",
       "      <td>0.975668</td>\n",
       "      <td>False</td>\n",
       "    </tr>\n",
       "  </tbody>\n",
       "</table>\n",
       "</div>"
      ],
      "text/plain": [
       "                     artist     score  already_liked\n",
       "0                devil doll  1.071781          False\n",
       "1           spiritual front  1.059486          False\n",
       "2                   mortiis  1.012859           True\n",
       "3  ordo rosarius equilibrio  0.998481          False\n",
       "4                      rome  0.998062           True\n",
       "5         the coffinshakers  0.990920           True\n",
       "6                      gåte  0.985904          False\n",
       "7                    arditi  0.981291           True\n",
       "8                     d-a-d  0.979130           True\n",
       "9                   the ark  0.975668          False"
      ]
     },
     "execution_count": 24,
     "metadata": {},
     "output_type": "execute_result"
    }
   ],
   "source": [
    "# Use pandas to display the output in a table, pandas isn't a dependency of implicit otherwise\n",
    "import numpy as np\n",
    "import pandas as pd\n",
    "\n",
    "pd.DataFrame(\n",
    "    {\n",
    "        \"artist\": artists[ids],\n",
    "        \"score\": scores,\n",
    "        \"already_liked\": np.in1d(ids, user_plays[userid].indices),\n",
    "    }\n",
    ")"
   ]
  },
  {
   "cell_type": "markdown",
   "id": "d63424ee-ca5d-4cfd-b491-f094247ceb96",
   "metadata": {},
   "source": [
    "## Recommending Similar Items"
   ]
  },
  {
   "cell_type": "code",
   "execution_count": 25,
   "id": "6cfba07b-9395-4725-b908-220049e4f0ca",
   "metadata": {},
   "outputs": [
    {
     "data": {
      "text/html": [
       "<div>\n",
       "<style scoped>\n",
       "    .dataframe tbody tr th:only-of-type {\n",
       "        vertical-align: middle;\n",
       "    }\n",
       "\n",
       "    .dataframe tbody tr th {\n",
       "        vertical-align: top;\n",
       "    }\n",
       "\n",
       "    .dataframe thead th {\n",
       "        text-align: right;\n",
       "    }\n",
       "</style>\n",
       "<table border=\"1\" class=\"dataframe\">\n",
       "  <thead>\n",
       "    <tr style=\"text-align: right;\">\n",
       "      <th></th>\n",
       "      <th>artist</th>\n",
       "      <th>score</th>\n",
       "    </tr>\n",
       "  </thead>\n",
       "  <tbody>\n",
       "    <tr>\n",
       "      <th>0</th>\n",
       "      <td>the beatles</td>\n",
       "      <td>1.000000</td>\n",
       "    </tr>\n",
       "    <tr>\n",
       "      <th>1</th>\n",
       "      <td>the beach boys</td>\n",
       "      <td>0.993512</td>\n",
       "    </tr>\n",
       "    <tr>\n",
       "      <th>2</th>\n",
       "      <td>the rolling stones</td>\n",
       "      <td>0.993092</td>\n",
       "    </tr>\n",
       "    <tr>\n",
       "      <th>3</th>\n",
       "      <td>john lennon</td>\n",
       "      <td>0.992782</td>\n",
       "    </tr>\n",
       "    <tr>\n",
       "      <th>4</th>\n",
       "      <td>bob dylan</td>\n",
       "      <td>0.992323</td>\n",
       "    </tr>\n",
       "    <tr>\n",
       "      <th>5</th>\n",
       "      <td>the who</td>\n",
       "      <td>0.992133</td>\n",
       "    </tr>\n",
       "    <tr>\n",
       "      <th>6</th>\n",
       "      <td>simon &amp; garfunkel</td>\n",
       "      <td>0.991434</td>\n",
       "    </tr>\n",
       "    <tr>\n",
       "      <th>7</th>\n",
       "      <td>david bowie</td>\n",
       "      <td>0.991320</td>\n",
       "    </tr>\n",
       "    <tr>\n",
       "      <th>8</th>\n",
       "      <td>led zeppelin</td>\n",
       "      <td>0.990993</td>\n",
       "    </tr>\n",
       "    <tr>\n",
       "      <th>9</th>\n",
       "      <td>the white stripes</td>\n",
       "      <td>0.989982</td>\n",
       "    </tr>\n",
       "  </tbody>\n",
       "</table>\n",
       "</div>"
      ],
      "text/plain": [
       "               artist     score\n",
       "0         the beatles  1.000000\n",
       "1      the beach boys  0.993512\n",
       "2  the rolling stones  0.993092\n",
       "3         john lennon  0.992782\n",
       "4           bob dylan  0.992323\n",
       "5             the who  0.992133\n",
       "6   simon & garfunkel  0.991434\n",
       "7         david bowie  0.991320\n",
       "8        led zeppelin  0.990993\n",
       "9   the white stripes  0.989982"
      ]
     },
     "execution_count": 25,
     "metadata": {},
     "output_type": "execute_result"
    }
   ],
   "source": [
    "# get related items for the beatles (itemid = 25512)\n",
    "ids, scores = model.similar_items(252512)\n",
    "\n",
    "# display the results using pandas for nicer formatting\n",
    "pd.DataFrame({\"artist\": artists[ids], \"score\": scores})"
   ]
  },
  {
   "cell_type": "markdown",
   "id": "4573f18b-6abd-4874-b918-44becaedb263",
   "metadata": {},
   "source": [
    "## Making Batch Recommendations"
   ]
  },
  {
   "cell_type": "code",
   "execution_count": 26,
   "id": "5af99d61-92ee-4f5b-bfa3-a6fcd403c379",
   "metadata": {},
   "outputs": [
    {
     "data": {
      "text/plain": [
       "(array([[161850, 150177, 107119, ..., 111603, 136336, 205631],\n",
       "        [252956, 262990, 128505, ..., 235136, 255779, 189597],\n",
       "        [186835, 113686, 142885, ..., 167270, 131061, 120981],\n",
       "        ...,\n",
       "        [ 83885, 151783, 265625, ..., 202346,  43598, 140971],\n",
       "        [109930,   1560,  97970, ...,  33602, 236697, 129399],\n",
       "        [ 21090, 158209, 276679, ..., 272293, 204087, 171553]],\n",
       "       shape=(1000, 10), dtype=int32),\n",
       " (1000, 10))"
      ]
     },
     "execution_count": 26,
     "metadata": {},
     "output_type": "execute_result"
    }
   ],
   "source": [
    "# Make recommendations for the first 1000 users in the dataset\n",
    "userids = np.arange(1000)\n",
    "ids, scores = model.recommend(userids, user_plays[userids])\n",
    "ids, ids.shape"
   ]
  }
 ],
 "metadata": {
  "kernelspec": {
   "display_name": "Python 3 (ipykernel)",
   "language": "python",
   "name": "python3"
  },
  "language_info": {
   "codemirror_mode": {
    "name": "ipython",
    "version": 3
   },
   "file_extension": ".py",
   "mimetype": "text/x-python",
   "name": "python",
   "nbconvert_exporter": "python",
   "pygments_lexer": "ipython3",
   "version": "3.12.9"
  }
 },
 "nbformat": 4,
 "nbformat_minor": 5
}

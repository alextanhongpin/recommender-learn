{
 "cells": [
  {
   "cell_type": "code",
   "execution_count": 4,
   "id": "8dda74b3-fabb-4240-8be0-ce751d29ba21",
   "metadata": {},
   "outputs": [
    {
     "data": {
      "application/vnd.jupyter.widget-view+json": {
       "model_id": "065ae3a1c0a54e74a9db572449d95420",
       "version_major": 2,
       "version_minor": 0
      },
      "text/plain": [
       "0.00B [00:00, ?B/s]"
      ]
     },
     "metadata": {},
     "output_type": "display_data"
    }
   ],
   "source": [
    "from implicit.datasets.lastfm import get_lastfm\n",
    "\n",
    "# Location of the file.\n",
    "# import os; os.path.join(os.path.expanduser(\"~\"), \"implicit_datasets\")\n",
    "artists, users, artist_user_plays = get_lastfm()"
   ]
  },
  {
   "cell_type": "code",
   "execution_count": 7,
   "id": "c3d7f508-72c8-4723-9d6a-6493ecdbf6e3",
   "metadata": {},
   "outputs": [
    {
     "data": {
      "text/plain": [
       "array([' 2 ', ' 58725ab=>', ' 80lİ yillarin tÜrkÇe sÖzlÜ aŞk Şarkilari',\n",
       "       ' amy winehouse', ' cours de la somme', ' fatboy slim',\n",
       "       ' kanye west', ' mala rodriguez', ' mohamed lamine',\n",
       "       ' oliver shanti & friends'], dtype=object)"
      ]
     },
     "execution_count": 7,
     "metadata": {},
     "output_type": "execute_result"
    }
   ],
   "source": [
    "artists[:10]"
   ]
  },
  {
   "cell_type": "code",
   "execution_count": 8,
   "id": "c431cc95-a17c-4d5e-a47f-7fd8993bb7a6",
   "metadata": {},
   "outputs": [
    {
     "data": {
      "text/plain": [
       "array(['00000c289a1829a808ac09c00daf10bc3c4e223b',\n",
       "       '00001411dc427966b17297bf4d69e7e193135d89',\n",
       "       '00004d2ac9316e22dc007ab2243d6fcb239e707d',\n",
       "       '000063d3fe1cf2ba248b9e3c3f0334845a27a6bf',\n",
       "       '00007a47085b9aab8af55f52ec8846ac479ac4fe',\n",
       "       '0000c176103e538d5c9828e695fed4f7ae42dd01',\n",
       "       '0000ee7dd906373efa37f4e1185bfe1e3f8695ae',\n",
       "       '0000ef373bbd0d89ce796abae961f2705e8c1faf',\n",
       "       '0000f687d4fe9c1ed49620fbc5ed5b0d7798ea20',\n",
       "       '0001399387da41d557219578fb08b12afa25ab67'], dtype=object)"
      ]
     },
     "execution_count": 8,
     "metadata": {},
     "output_type": "execute_result"
    }
   ],
   "source": [
    "users[:10]"
   ]
  },
  {
   "cell_type": "code",
   "execution_count": 20,
   "id": "dc4377e6-d996-4fc3-8535-559d54263569",
   "metadata": {},
   "outputs": [
    {
     "data": {
      "text/plain": [
       "[(np.int32(0), np.int32(73470), np.float32(32.0)),\n",
       " (np.int32(0), np.int32(97856), np.float32(24.0)),\n",
       " (np.int32(0), np.int32(235382), np.float32(1339.0)),\n",
       " (np.int32(0), np.int32(266072), np.float32(211.0)),\n",
       " (np.int32(1), np.int32(171865), np.float32(23.0)),\n",
       " (np.int32(2), np.int32(180892), np.float32(70.0)),\n",
       " (np.int32(3), np.int32(285031), np.float32(23.0)),\n",
       " (np.int32(4), np.int32(15103), np.float32(9.0)),\n",
       " (np.int32(5), np.int32(81700), np.float32(16.0)),\n",
       " (np.int32(6), np.int32(284057), np.float32(56.0))]"
      ]
     },
     "execution_count": 20,
     "metadata": {},
     "output_type": "execute_result"
    }
   ],
   "source": [
    "X = artist_user_plays.tocoo()\n",
    "list(zip(X.row, X.col, X.data))[:10]"
   ]
  },
  {
   "cell_type": "code",
   "execution_count": null,
   "id": "a6106c29-cf12-4574-a21c-86af6849cb70",
   "metadata": {},
   "outputs": [],
   "source": [
    "from implicit.nearest_neighbours import bm25_weight\n",
    "\n",
    "# weight the matrix, both to reduce impact of users that have played the same artist thousands of times\n",
    "# and to reduce the weight given to popular items\n",
    "artist_user_plays = bm25_weight(artist_user_plays, K1=100, B=0.8)\n",
    "\n",
    "# get the transpose since the most of the functions in implicit expect (user, item) sparse matrices instead of (item, user)\n",
    "user_plays = artist_user_plays.T.tocsr()"
   ]
  }
 ],
 "metadata": {
  "kernelspec": {
   "display_name": "Python 3 (ipykernel)",
   "language": "python",
   "name": "python3"
  },
  "language_info": {
   "codemirror_mode": {
    "name": "ipython",
    "version": 3
   },
   "file_extension": ".py",
   "mimetype": "text/x-python",
   "name": "python",
   "nbconvert_exporter": "python",
   "pygments_lexer": "ipython3",
   "version": "3.12.9"
  }
 },
 "nbformat": 4,
 "nbformat_minor": 5
}

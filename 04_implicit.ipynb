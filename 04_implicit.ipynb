{
 "cells": [
  {
   "cell_type": "markdown",
   "id": "14b85549-7147-4fb6-b86d-aa2c3d5873dd",
   "metadata": {},
   "source": [
    "# Recommendation using implicit library"
   ]
  },
  {
   "cell_type": "code",
   "execution_count": 1,
   "id": "bd78aeb5-43b7-4a19-8922-26e6d41b0109",
   "metadata": {},
   "outputs": [],
   "source": [
    "import pandas as pd\n",
    "import seaborn as sns\n",
    "from implicit.nearest_neighbours import CosineRecommender\n",
    "from scipy.sparse import coo_matrix, csr_matrix\n",
    "from sklearn.metrics.pairwise import cosine_distances, cosine_similarity\n",
    "from sklearn.preprocessing import normalize\n",
    "\n",
    "sns.set()"
   ]
  },
  {
   "cell_type": "code",
   "execution_count": 2,
   "id": "7f0121e7-affd-4a3e-98e1-8e52df3b6a69",
   "metadata": {},
   "outputs": [
    {
     "data": {
      "text/html": [
       "<div>\n",
       "<style scoped>\n",
       "    .dataframe tbody tr th:only-of-type {\n",
       "        vertical-align: middle;\n",
       "    }\n",
       "\n",
       "    .dataframe tbody tr th {\n",
       "        vertical-align: top;\n",
       "    }\n",
       "\n",
       "    .dataframe thead th {\n",
       "        text-align: right;\n",
       "    }\n",
       "</style>\n",
       "<table border=\"1\" class=\"dataframe\">\n",
       "  <thead>\n",
       "    <tr style=\"text-align: right;\">\n",
       "      <th></th>\n",
       "      <th>users</th>\n",
       "      <th>movies</th>\n",
       "      <th>ratings</th>\n",
       "    </tr>\n",
       "  </thead>\n",
       "  <tbody>\n",
       "    <tr>\n",
       "      <th>0</th>\n",
       "      <td>Lisa Rose</td>\n",
       "      <td>Lady in the Water</td>\n",
       "      <td>2.5</td>\n",
       "    </tr>\n",
       "    <tr>\n",
       "      <th>1</th>\n",
       "      <td>Lisa Rose</td>\n",
       "      <td>Snakes on a Plane</td>\n",
       "      <td>3.5</td>\n",
       "    </tr>\n",
       "    <tr>\n",
       "      <th>2</th>\n",
       "      <td>Lisa Rose</td>\n",
       "      <td>Just My Luck</td>\n",
       "      <td>3.0</td>\n",
       "    </tr>\n",
       "    <tr>\n",
       "      <th>3</th>\n",
       "      <td>Lisa Rose</td>\n",
       "      <td>Superman Returns</td>\n",
       "      <td>3.5</td>\n",
       "    </tr>\n",
       "    <tr>\n",
       "      <th>4</th>\n",
       "      <td>Lisa Rose</td>\n",
       "      <td>You, Me and Dupree</td>\n",
       "      <td>2.5</td>\n",
       "    </tr>\n",
       "  </tbody>\n",
       "</table>\n",
       "</div>"
      ],
      "text/plain": [
       "       users              movies  ratings\n",
       "0  Lisa Rose   Lady in the Water      2.5\n",
       "1  Lisa Rose   Snakes on a Plane      3.5\n",
       "2  Lisa Rose        Just My Luck      3.0\n",
       "3  Lisa Rose    Superman Returns      3.5\n",
       "4  Lisa Rose  You, Me and Dupree      2.5"
      ]
     },
     "execution_count": 2,
     "metadata": {},
     "output_type": "execute_result"
    }
   ],
   "source": [
    "# Load data\n",
    "df = pd.read_csv(\"rating2.csv\")\n",
    "df.head()"
   ]
  },
  {
   "cell_type": "code",
   "execution_count": 3,
   "id": "e69c5c46-5eca-4c03-85ea-c0de22d48f6c",
   "metadata": {},
   "outputs": [
    {
     "data": {
      "text/html": [
       "<div>\n",
       "<style scoped>\n",
       "    .dataframe tbody tr th:only-of-type {\n",
       "        vertical-align: middle;\n",
       "    }\n",
       "\n",
       "    .dataframe tbody tr th {\n",
       "        vertical-align: top;\n",
       "    }\n",
       "\n",
       "    .dataframe thead th {\n",
       "        text-align: right;\n",
       "    }\n",
       "</style>\n",
       "<table border=\"1\" class=\"dataframe\">\n",
       "  <thead>\n",
       "    <tr style=\"text-align: right;\">\n",
       "      <th>movies</th>\n",
       "      <th>Just My Luck</th>\n",
       "      <th>Lady in the Water</th>\n",
       "      <th>Snakes on a Plane</th>\n",
       "      <th>Superman Returns</th>\n",
       "      <th>The Night Listener</th>\n",
       "      <th>You, Me and Dupree</th>\n",
       "    </tr>\n",
       "    <tr>\n",
       "      <th>users</th>\n",
       "      <th></th>\n",
       "      <th></th>\n",
       "      <th></th>\n",
       "      <th></th>\n",
       "      <th></th>\n",
       "      <th></th>\n",
       "    </tr>\n",
       "  </thead>\n",
       "  <tbody>\n",
       "    <tr>\n",
       "      <th>Claudia Puig</th>\n",
       "      <td>3.0</td>\n",
       "      <td>NaN</td>\n",
       "      <td>3.5</td>\n",
       "      <td>4.0</td>\n",
       "      <td>4.5</td>\n",
       "      <td>2.5</td>\n",
       "    </tr>\n",
       "    <tr>\n",
       "      <th>Gene Seymour</th>\n",
       "      <td>1.5</td>\n",
       "      <td>3.0</td>\n",
       "      <td>3.5</td>\n",
       "      <td>5.0</td>\n",
       "      <td>3.0</td>\n",
       "      <td>3.5</td>\n",
       "    </tr>\n",
       "    <tr>\n",
       "      <th>Jack Matthews</th>\n",
       "      <td>NaN</td>\n",
       "      <td>3.0</td>\n",
       "      <td>4.0</td>\n",
       "      <td>5.0</td>\n",
       "      <td>3.0</td>\n",
       "      <td>3.5</td>\n",
       "    </tr>\n",
       "    <tr>\n",
       "      <th>Lisa Rose</th>\n",
       "      <td>3.0</td>\n",
       "      <td>2.5</td>\n",
       "      <td>3.5</td>\n",
       "      <td>3.5</td>\n",
       "      <td>3.0</td>\n",
       "      <td>2.5</td>\n",
       "    </tr>\n",
       "    <tr>\n",
       "      <th>Michael Phillips</th>\n",
       "      <td>NaN</td>\n",
       "      <td>2.5</td>\n",
       "      <td>3.0</td>\n",
       "      <td>3.5</td>\n",
       "      <td>4.0</td>\n",
       "      <td>NaN</td>\n",
       "    </tr>\n",
       "    <tr>\n",
       "      <th>Mick LaSalle</th>\n",
       "      <td>2.0</td>\n",
       "      <td>3.0</td>\n",
       "      <td>4.0</td>\n",
       "      <td>3.0</td>\n",
       "      <td>3.0</td>\n",
       "      <td>2.0</td>\n",
       "    </tr>\n",
       "    <tr>\n",
       "      <th>Toby</th>\n",
       "      <td>NaN</td>\n",
       "      <td>NaN</td>\n",
       "      <td>4.5</td>\n",
       "      <td>4.0</td>\n",
       "      <td>NaN</td>\n",
       "      <td>1.0</td>\n",
       "    </tr>\n",
       "  </tbody>\n",
       "</table>\n",
       "</div>"
      ],
      "text/plain": [
       "movies            Just My Luck  Lady in the Water  Snakes on a Plane  \\\n",
       "users                                                                  \n",
       "Claudia Puig               3.0                NaN                3.5   \n",
       "Gene Seymour               1.5                3.0                3.5   \n",
       "Jack Matthews              NaN                3.0                4.0   \n",
       "Lisa Rose                  3.0                2.5                3.5   \n",
       "Michael Phillips           NaN                2.5                3.0   \n",
       "Mick LaSalle               2.0                3.0                4.0   \n",
       "Toby                       NaN                NaN                4.5   \n",
       "\n",
       "movies            Superman Returns  The Night Listener  You, Me and Dupree  \n",
       "users                                                                       \n",
       "Claudia Puig                   4.0                 4.5                 2.5  \n",
       "Gene Seymour                   5.0                 3.0                 3.5  \n",
       "Jack Matthews                  5.0                 3.0                 3.5  \n",
       "Lisa Rose                      3.5                 3.0                 2.5  \n",
       "Michael Phillips               3.5                 4.0                 NaN  \n",
       "Mick LaSalle                   3.0                 3.0                 2.0  \n",
       "Toby                           4.0                 NaN                 1.0  "
      ]
     },
     "execution_count": 3,
     "metadata": {},
     "output_type": "execute_result"
    }
   ],
   "source": [
    "user_items = df.pivot(columns=\"movies\", index=\"users\", values=\"ratings\")\n",
    "user_items"
   ]
  },
  {
   "cell_type": "markdown",
   "id": "6ad10116-147a-4e16-89e6-457d7dd1e3ce",
   "metadata": {},
   "source": [
    "## Computing cosine similarity"
   ]
  },
  {
   "cell_type": "markdown",
   "id": "4835f0e8-d05c-4547-a9b6-11cf0a4f3a0d",
   "metadata": {},
   "source": [
    "### Using sklearn"
   ]
  },
  {
   "cell_type": "code",
   "execution_count": 4,
   "id": "e720b92b-d736-482f-b0c1-f04f07e28608",
   "metadata": {},
   "outputs": [
    {
     "data": {
      "text/plain": [
       "array([[0.8847892]])"
      ]
     },
     "execution_count": 4,
     "metadata": {},
     "output_type": "execute_result"
    }
   ],
   "source": [
    "# Fill NaN values with 0, because cosine similarity doesn't allow NaN values.\n",
    "claudia = user_items.iloc[0].fillna(0).values\n",
    "gene = user_items.iloc[1].fillna(0).values\n",
    "\n",
    "\n",
    "cosine_similarity([claudia], [gene])"
   ]
  },
  {
   "cell_type": "code",
   "execution_count": 5,
   "id": "42ecf17d-b855-48dc-86c4-fa495b6f157e",
   "metadata": {},
   "outputs": [
    {
     "data": {
      "text/html": [
       "<div>\n",
       "<style scoped>\n",
       "    .dataframe tbody tr th:only-of-type {\n",
       "        vertical-align: middle;\n",
       "    }\n",
       "\n",
       "    .dataframe tbody tr th {\n",
       "        vertical-align: top;\n",
       "    }\n",
       "\n",
       "    .dataframe thead th {\n",
       "        text-align: right;\n",
       "    }\n",
       "</style>\n",
       "<table border=\"1\" class=\"dataframe\">\n",
       "  <thead>\n",
       "    <tr style=\"text-align: right;\">\n",
       "      <th>users</th>\n",
       "      <th>Claudia Puig</th>\n",
       "      <th>Gene Seymour</th>\n",
       "      <th>Jack Matthews</th>\n",
       "      <th>Lisa Rose</th>\n",
       "      <th>Michael Phillips</th>\n",
       "      <th>Mick LaSalle</th>\n",
       "      <th>Toby</th>\n",
       "    </tr>\n",
       "    <tr>\n",
       "      <th>users</th>\n",
       "      <th></th>\n",
       "      <th></th>\n",
       "      <th></th>\n",
       "      <th></th>\n",
       "      <th></th>\n",
       "      <th></th>\n",
       "      <th></th>\n",
       "    </tr>\n",
       "  </thead>\n",
       "  <tbody>\n",
       "    <tr>\n",
       "      <th>Claudia Puig</th>\n",
       "      <td>1.000000</td>\n",
       "      <td>0.884789</td>\n",
       "      <td>0.834622</td>\n",
       "      <td>0.928841</td>\n",
       "      <td>0.807057</td>\n",
       "      <td>0.885658</td>\n",
       "      <td>0.702841</td>\n",
       "    </tr>\n",
       "    <tr>\n",
       "      <th>Gene Seymour</th>\n",
       "      <td>0.884789</td>\n",
       "      <td>1.000000</td>\n",
       "      <td>0.982325</td>\n",
       "      <td>0.960646</td>\n",
       "      <td>0.862337</td>\n",
       "      <td>0.955691</td>\n",
       "      <td>0.770024</td>\n",
       "    </tr>\n",
       "    <tr>\n",
       "      <th>Jack Matthews</th>\n",
       "      <td>0.834622</td>\n",
       "      <td>0.982325</td>\n",
       "      <td>1.000000</td>\n",
       "      <td>0.906551</td>\n",
       "      <td>0.880155</td>\n",
       "      <td>0.928989</td>\n",
       "      <td>0.805550</td>\n",
       "    </tr>\n",
       "    <tr>\n",
       "      <th>Lisa Rose</th>\n",
       "      <td>0.928841</td>\n",
       "      <td>0.960646</td>\n",
       "      <td>0.906551</td>\n",
       "      <td>1.000000</td>\n",
       "      <td>0.838220</td>\n",
       "      <td>0.981831</td>\n",
       "      <td>0.712501</td>\n",
       "    </tr>\n",
       "    <tr>\n",
       "      <th>Michael Phillips</th>\n",
       "      <td>0.807057</td>\n",
       "      <td>0.862337</td>\n",
       "      <td>0.880155</td>\n",
       "      <td>0.838220</td>\n",
       "      <td>1.000000</td>\n",
       "      <td>0.891702</td>\n",
       "      <td>0.683164</td>\n",
       "    </tr>\n",
       "    <tr>\n",
       "      <th>Mick LaSalle</th>\n",
       "      <td>0.885658</td>\n",
       "      <td>0.955691</td>\n",
       "      <td>0.928989</td>\n",
       "      <td>0.981831</td>\n",
       "      <td>0.891702</td>\n",
       "      <td>1.000000</td>\n",
       "      <td>0.734179</td>\n",
       "    </tr>\n",
       "    <tr>\n",
       "      <th>Toby</th>\n",
       "      <td>0.702841</td>\n",
       "      <td>0.770024</td>\n",
       "      <td>0.805550</td>\n",
       "      <td>0.712501</td>\n",
       "      <td>0.683164</td>\n",
       "      <td>0.734179</td>\n",
       "      <td>1.000000</td>\n",
       "    </tr>\n",
       "  </tbody>\n",
       "</table>\n",
       "</div>"
      ],
      "text/plain": [
       "users             Claudia Puig  Gene Seymour  Jack Matthews  Lisa Rose  \\\n",
       "users                                                                    \n",
       "Claudia Puig          1.000000      0.884789       0.834622   0.928841   \n",
       "Gene Seymour          0.884789      1.000000       0.982325   0.960646   \n",
       "Jack Matthews         0.834622      0.982325       1.000000   0.906551   \n",
       "Lisa Rose             0.928841      0.960646       0.906551   1.000000   \n",
       "Michael Phillips      0.807057      0.862337       0.880155   0.838220   \n",
       "Mick LaSalle          0.885658      0.955691       0.928989   0.981831   \n",
       "Toby                  0.702841      0.770024       0.805550   0.712501   \n",
       "\n",
       "users             Michael Phillips  Mick LaSalle      Toby  \n",
       "users                                                       \n",
       "Claudia Puig              0.807057      0.885658  0.702841  \n",
       "Gene Seymour              0.862337      0.955691  0.770024  \n",
       "Jack Matthews             0.880155      0.928989  0.805550  \n",
       "Lisa Rose                 0.838220      0.981831  0.712501  \n",
       "Michael Phillips          1.000000      0.891702  0.683164  \n",
       "Mick LaSalle              0.891702      1.000000  0.734179  \n",
       "Toby                      0.683164      0.734179  1.000000  "
      ]
     },
     "execution_count": 5,
     "metadata": {},
     "output_type": "execute_result"
    }
   ],
   "source": [
    "df = pd.DataFrame(\n",
    "    cosine_similarity(user_items.fillna(0)),\n",
    "    index=user_items.index,\n",
    "    columns=user_items.index,\n",
    ")\n",
    "df.head(n=10)"
   ]
  },
  {
   "cell_type": "code",
   "execution_count": 6,
   "id": "d4c1af97-e312-4e48-9250-a6dd0c7f0a7e",
   "metadata": {},
   "outputs": [
    {
     "data": {
      "image/png": "[encoded data removed]",
      "text/plain": [
       "<Figure size 640x480 with 2 Axes>"
      ]
     },
     "metadata": {},
     "output_type": "display_data"
    }
   ],
   "source": [
    "sns.heatmap(df, annot=True, cmap=\"Blues\");"
   ]
  },
  {
   "cell_type": "code",
   "execution_count": 7,
   "id": "8ebadc39-85f1-47d9-8e61-e8b5643eea5a",
   "metadata": {},
   "outputs": [
    {
     "data": {
      "text/plain": [
       "users\n",
       "Jack Matthews    0.805550\n",
       "Gene Seymour     0.770024\n",
       "Mick LaSalle     0.734179\n",
       "Lisa Rose        0.712501\n",
       "Claudia Puig     0.702841\n",
       "Name: Toby, dtype: float64"
      ]
     },
     "execution_count": 7,
     "metadata": {},
     "output_type": "execute_result"
    }
   ],
   "source": [
    "# Finding similar users\n",
    "user = \"Toby\"\n",
    "n = 5\n",
    "\n",
    "users = df.loc[user].sort_values(ascending=False).drop(user).head(n)\n",
    "users"
   ]
  },
  {
   "cell_type": "code",
   "execution_count": 8,
   "id": "0140f4fe-8ffa-42a1-b0b2-f600f3901010",
   "metadata": {},
   "outputs": [
    {
     "data": {
      "text/plain": [
       "array([[0.1152108]])"
      ]
     },
     "execution_count": 8,
     "metadata": {},
     "output_type": "execute_result"
    }
   ],
   "source": [
    "# 1 - cosine_similarity\n",
    "cosine_distances([claudia], [gene])"
   ]
  },
  {
   "cell_type": "code",
   "execution_count": 9,
   "id": "ad6707b7-5006-4f5b-9e00-f099db84cf85",
   "metadata": {},
   "outputs": [
    {
     "data": {
      "text/plain": [
       "array([[0.8847892]])"
      ]
     },
     "execution_count": 9,
     "metadata": {},
     "output_type": "execute_result"
    }
   ],
   "source": [
    "1 - cosine_distances([claudia], [gene])"
   ]
  },
  {
   "cell_type": "markdown",
   "id": "cb01e017-fc7a-47b1-9676-c7cc31fb2678",
   "metadata": {},
   "source": [
    "### Using implicit"
   ]
  },
  {
   "cell_type": "code",
   "execution_count": 10,
   "id": "635bb228-6216-4821-aff9-05486ab96c9a",
   "metadata": {},
   "outputs": [
    {
     "data": {
      "text/html": [
       "<div>\n",
       "<style scoped>\n",
       "    .dataframe tbody tr th:only-of-type {\n",
       "        vertical-align: middle;\n",
       "    }\n",
       "\n",
       "    .dataframe tbody tr th {\n",
       "        vertical-align: top;\n",
       "    }\n",
       "\n",
       "    .dataframe thead th {\n",
       "        text-align: right;\n",
       "    }\n",
       "</style>\n",
       "<table border=\"1\" class=\"dataframe\">\n",
       "  <thead>\n",
       "    <tr style=\"text-align: right;\">\n",
       "      <th></th>\n",
       "      <th>users</th>\n",
       "      <th>movies</th>\n",
       "      <th>ratings</th>\n",
       "    </tr>\n",
       "  </thead>\n",
       "  <tbody>\n",
       "    <tr>\n",
       "      <th>0</th>\n",
       "      <td>Lisa Rose</td>\n",
       "      <td>Lady in the Water</td>\n",
       "      <td>2.5</td>\n",
       "    </tr>\n",
       "    <tr>\n",
       "      <th>1</th>\n",
       "      <td>Lisa Rose</td>\n",
       "      <td>Snakes on a Plane</td>\n",
       "      <td>3.5</td>\n",
       "    </tr>\n",
       "    <tr>\n",
       "      <th>2</th>\n",
       "      <td>Lisa Rose</td>\n",
       "      <td>Just My Luck</td>\n",
       "      <td>3.0</td>\n",
       "    </tr>\n",
       "    <tr>\n",
       "      <th>3</th>\n",
       "      <td>Lisa Rose</td>\n",
       "      <td>Superman Returns</td>\n",
       "      <td>3.5</td>\n",
       "    </tr>\n",
       "    <tr>\n",
       "      <th>4</th>\n",
       "      <td>Lisa Rose</td>\n",
       "      <td>You, Me and Dupree</td>\n",
       "      <td>2.5</td>\n",
       "    </tr>\n",
       "  </tbody>\n",
       "</table>\n",
       "</div>"
      ],
      "text/plain": [
       "       users              movies  ratings\n",
       "0  Lisa Rose   Lady in the Water      2.5\n",
       "1  Lisa Rose   Snakes on a Plane      3.5\n",
       "2  Lisa Rose        Just My Luck      3.0\n",
       "3  Lisa Rose    Superman Returns      3.5\n",
       "4  Lisa Rose  You, Me and Dupree      2.5"
      ]
     },
     "execution_count": 10,
     "metadata": {},
     "output_type": "execute_result"
    }
   ],
   "source": [
    "df = pd.read_csv(\"rating2.csv\")\n",
    "df[\"users\"] = df[\"users\"].astype(\"category\")\n",
    "df[\"movies\"] = df[\"movies\"].astype(\"category\")\n",
    "\n",
    "users = df.users.cat.categories\n",
    "movies = df.movies.cat.categories\n",
    "\n",
    "user_ids = df.users.cat.codes\n",
    "movie_ids = df.movies.cat.codes\n",
    "\n",
    "ratings = df.ratings.astype(float)\n",
    "\n",
    "df.head()"
   ]
  },
  {
   "cell_type": "code",
   "execution_count": 11,
   "id": "97ae0d30-d9cd-48ff-8c25-16a605c1f454",
   "metadata": {},
   "outputs": [
    {
     "data": {
      "text/plain": [
       "[(np.int8(0), 'Just My Luck'),\n",
       " (np.int8(1), 'Lady in the Water'),\n",
       " (np.int8(2), 'Snakes on a Plane'),\n",
       " (np.int8(3), 'Superman Returns'),\n",
       " (np.int8(4), 'The Night Listener'),\n",
       " (np.int8(5), 'You, Me and Dupree')]"
      ]
     },
     "execution_count": 11,
     "metadata": {},
     "output_type": "execute_result"
    }
   ],
   "source": [
    "import numpy as np\n",
    "\n",
    "(list(zip(np.unique(movie_ids), movies[np.unique(movie_ids)])))"
   ]
  },
  {
   "cell_type": "code",
   "execution_count": 12,
   "id": "04453771-3fd9-490a-863d-cf650cf30cce",
   "metadata": {},
   "outputs": [
    {
     "data": {
      "text/plain": [
       "[(np.int8(0), 'Claudia Puig'),\n",
       " (np.int8(1), 'Gene Seymour'),\n",
       " (np.int8(2), 'Jack Matthews'),\n",
       " (np.int8(3), 'Lisa Rose'),\n",
       " (np.int8(4), 'Michael Phillips'),\n",
       " (np.int8(5), 'Mick LaSalle'),\n",
       " (np.int8(6), 'Toby')]"
      ]
     },
     "execution_count": 12,
     "metadata": {},
     "output_type": "execute_result"
    }
   ],
   "source": [
    "(list(zip(np.unique(user_ids), users[np.unique(user_ids)])))"
   ]
  },
  {
   "cell_type": "code",
   "execution_count": 13,
   "id": "7582ff0b-de35-43c6-9cca-ffa68f84912c",
   "metadata": {},
   "outputs": [
    {
     "data": {
      "text/plain": [
       "<Compressed Sparse Row sparse matrix of dtype 'float64'\n",
       "\twith 35 stored elements and shape (7, 6)>"
      ]
     },
     "execution_count": 13,
     "metadata": {},
     "output_type": "execute_result"
    }
   ],
   "source": [
    "user_items = coo_matrix((ratings, (user_ids, movie_ids))).tocsr()\n",
    "user_items"
   ]
  },
  {
   "cell_type": "code",
   "execution_count": 14,
   "id": "e2390228-2d98-49b5-9fdd-1c16bc05a614",
   "metadata": {},
   "outputs": [
    {
     "name": "stderr",
     "output_type": "stream",
     "text": [
      "/Users/alextanhongpin/Documents/go/recommender-learn/.venv/lib/python3.12/site-packages/implicit/utils.py:164: ParameterWarning: Method expects CSR input, and was passed coo_matrix instead. Converting to CSR took 6.818771362304688e-05 seconds\n",
      "  warnings.warn(\n"
     ]
    },
    {
     "data": {
      "application/vnd.jupyter.widget-view+json": {
       "model_id": "e702eb9f5d7a4e0fbccc8e8e7163d0d1",
       "version_major": 2,
       "version_minor": 0
      },
      "text/plain": [
       "  0%|          | 0/6 [00:00<?, ?it/s]"
      ]
     },
     "metadata": {},
     "output_type": "display_data"
    }
   ],
   "source": [
    "# This computes similarities for each items.\n",
    "model = CosineRecommender()\n",
    "model.fit(user_items)"
   ]
  },
  {
   "cell_type": "code",
   "execution_count": 15,
   "id": "79b1663d-f515-473d-a806-ac302d3a15f8",
   "metadata": {},
   "outputs": [
    {
     "data": {
      "text/html": [
       "<div>\n",
       "<style scoped>\n",
       "    .dataframe tbody tr th:only-of-type {\n",
       "        vertical-align: middle;\n",
       "    }\n",
       "\n",
       "    .dataframe tbody tr th {\n",
       "        vertical-align: top;\n",
       "    }\n",
       "\n",
       "    .dataframe thead th {\n",
       "        text-align: right;\n",
       "    }\n",
       "</style>\n",
       "<table border=\"1\" class=\"dataframe\">\n",
       "  <thead>\n",
       "    <tr style=\"text-align: right;\">\n",
       "      <th></th>\n",
       "      <th>movies</th>\n",
       "      <th>scores</th>\n",
       "    </tr>\n",
       "  </thead>\n",
       "  <tbody>\n",
       "    <tr>\n",
       "      <th>0</th>\n",
       "      <td>Superman Returns</td>\n",
       "      <td>1.000000</td>\n",
       "    </tr>\n",
       "    <tr>\n",
       "      <th>1</th>\n",
       "      <td>Snakes on a Plane</td>\n",
       "      <td>0.979878</td>\n",
       "    </tr>\n",
       "    <tr>\n",
       "      <th>2</th>\n",
       "      <td>You, Me and Dupree</td>\n",
       "      <td>0.915302</td>\n",
       "    </tr>\n",
       "    <tr>\n",
       "      <th>3</th>\n",
       "      <td>The Night Listener</td>\n",
       "      <td>0.892170</td>\n",
       "    </tr>\n",
       "    <tr>\n",
       "      <th>4</th>\n",
       "      <td>Lady in the Water</td>\n",
       "      <td>0.836486</td>\n",
       "    </tr>\n",
       "  </tbody>\n",
       "</table>\n",
       "</div>"
      ],
      "text/plain": [
       "               movies    scores\n",
       "0    Superman Returns  1.000000\n",
       "1   Snakes on a Plane  0.979878\n",
       "2  You, Me and Dupree  0.915302\n",
       "3  The Night Listener  0.892170\n",
       "4   Lady in the Water  0.836486"
      ]
     },
     "execution_count": 15,
     "metadata": {},
     "output_type": "execute_result"
    }
   ],
   "source": [
    "superman = 3\n",
    "\n",
    "ids, scores = model.similar_items(superman, N=5)\n",
    "pd.DataFrame(\n",
    "    {\n",
    "        \"movies\": movies[ids],\n",
    "        \"scores\": scores,\n",
    "    }\n",
    ")"
   ]
  },
  {
   "cell_type": "code",
   "execution_count": 16,
   "id": "f64891e6-cbce-4ddf-acda-a37089aa0fba",
   "metadata": {},
   "outputs": [
    {
     "name": "stderr",
     "output_type": "stream",
     "text": [
      "/Users/alextanhongpin/Documents/go/recommender-learn/.venv/lib/python3.12/site-packages/implicit/utils.py:164: ParameterWarning: Method expects CSR input, and was passed coo_matrix instead. Converting to CSR took 2.7179718017578125e-05 seconds\n",
      "  warnings.warn(\n"
     ]
    },
    {
     "data": {
      "application/vnd.jupyter.widget-view+json": {
       "model_id": "cc4eff6f16c841838f1bde82a077dcdb",
       "version_major": 2,
       "version_minor": 0
      },
      "text/plain": [
       "  0%|          | 0/7 [00:00<?, ?it/s]"
      ]
     },
     "metadata": {},
     "output_type": "display_data"
    }
   ],
   "source": [
    "# This computes similarities for each users.\n",
    "model = CosineRecommender()\n",
    "model.fit(user_items.T)"
   ]
  },
  {
   "cell_type": "code",
   "execution_count": 17,
   "id": "0bf43bef-2930-408e-a33a-588309e850ad",
   "metadata": {},
   "outputs": [
    {
     "data": {
      "text/html": [
       "<div>\n",
       "<style scoped>\n",
       "    .dataframe tbody tr th:only-of-type {\n",
       "        vertical-align: middle;\n",
       "    }\n",
       "\n",
       "    .dataframe tbody tr th {\n",
       "        vertical-align: top;\n",
       "    }\n",
       "\n",
       "    .dataframe thead th {\n",
       "        text-align: right;\n",
       "    }\n",
       "</style>\n",
       "<table border=\"1\" class=\"dataframe\">\n",
       "  <thead>\n",
       "    <tr style=\"text-align: right;\">\n",
       "      <th></th>\n",
       "      <th>users</th>\n",
       "      <th>scores</th>\n",
       "    </tr>\n",
       "  </thead>\n",
       "  <tbody>\n",
       "    <tr>\n",
       "      <th>0</th>\n",
       "      <td>Jack Matthews</td>\n",
       "      <td>0.805550</td>\n",
       "    </tr>\n",
       "    <tr>\n",
       "      <th>1</th>\n",
       "      <td>Gene Seymour</td>\n",
       "      <td>0.770024</td>\n",
       "    </tr>\n",
       "    <tr>\n",
       "      <th>2</th>\n",
       "      <td>Mick LaSalle</td>\n",
       "      <td>0.734179</td>\n",
       "    </tr>\n",
       "    <tr>\n",
       "      <th>3</th>\n",
       "      <td>Lisa Rose</td>\n",
       "      <td>0.712501</td>\n",
       "    </tr>\n",
       "    <tr>\n",
       "      <th>4</th>\n",
       "      <td>Claudia Puig</td>\n",
       "      <td>0.702841</td>\n",
       "    </tr>\n",
       "  </tbody>\n",
       "</table>\n",
       "</div>"
      ],
      "text/plain": [
       "           users    scores\n",
       "0  Jack Matthews  0.805550\n",
       "1   Gene Seymour  0.770024\n",
       "2   Mick LaSalle  0.734179\n",
       "3      Lisa Rose  0.712501\n",
       "4   Claudia Puig  0.702841"
      ]
     },
     "execution_count": 17,
     "metadata": {},
     "output_type": "execute_result"
    }
   ],
   "source": [
    "toby = 6\n",
    "\n",
    "ids, scores = model.similar_items(toby, N=5, filter_items=[toby])\n",
    "pd.DataFrame(\n",
    "    {\n",
    "        \"users\": users[ids],\n",
    "        \"scores\": scores,\n",
    "    }\n",
    ")"
   ]
  },
  {
   "cell_type": "markdown",
   "id": "7227fb93-1f00-45a4-b6bc-bd39ed0b68b6",
   "metadata": {},
   "source": [
    "### Finding item-item similarities"
   ]
  },
  {
   "cell_type": "code",
   "execution_count": 18,
   "id": "34bb7005-b050-4d57-8df4-073f9c727278",
   "metadata": {},
   "outputs": [
    {
     "data": {
      "text/plain": [
       "(array([1, 0, 4, 6, 5, 3, 2], dtype=int32),\n",
       " array([9.21873948, 8.35682168, 8.20527681, 7.20915624, 0.        ,\n",
       "        0.        , 0.        ]))"
      ]
     },
     "execution_count": 18,
     "metadata": {},
     "output_type": "execute_result"
    }
   ],
   "source": [
    "toby = 6\n",
    "ids, scores = model.recommend(\n",
    "    toby, user_items[toby], N=10, filter_already_liked_items=True\n",
    ")\n",
    "ids, scores"
   ]
  },
  {
   "cell_type": "markdown",
   "id": "36a29a12-5a6e-4728-8b9a-5765d6ac1dda",
   "metadata": {},
   "source": [
    "## Alternative Least Squares"
   ]
  },
  {
   "cell_type": "code",
   "execution_count": 19,
   "id": "8ee383da-44d4-4d09-90a7-716f7f9f9280",
   "metadata": {},
   "outputs": [
    {
     "data": {
      "application/vnd.jupyter.widget-view+json": {
       "model_id": "30aedd194ff948fd9d2fad2e4eeea1dc",
       "version_major": 2,
       "version_minor": 0
      },
      "text/plain": [
       "  0%|          | 0/15 [00:00<?, ?it/s]"
      ]
     },
     "metadata": {},
     "output_type": "display_data"
    }
   ],
   "source": [
    "from implicit.cpu.als import AlternatingLeastSquares\n",
    "\n",
    "model = AlternatingLeastSquares()\n",
    "model.fit(user_items)"
   ]
  },
  {
   "cell_type": "code",
   "execution_count": 20,
   "id": "589b083a-e687-4270-a72a-935df05d641e",
   "metadata": {},
   "outputs": [
    {
     "data": {
      "text/html": [
       "<div>\n",
       "<style scoped>\n",
       "    .dataframe tbody tr th:only-of-type {\n",
       "        vertical-align: middle;\n",
       "    }\n",
       "\n",
       "    .dataframe tbody tr th {\n",
       "        vertical-align: top;\n",
       "    }\n",
       "\n",
       "    .dataframe thead th {\n",
       "        text-align: right;\n",
       "    }\n",
       "</style>\n",
       "<table border=\"1\" class=\"dataframe\">\n",
       "  <thead>\n",
       "    <tr style=\"text-align: right;\">\n",
       "      <th></th>\n",
       "      <th>movies</th>\n",
       "      <th>scores</th>\n",
       "    </tr>\n",
       "  </thead>\n",
       "  <tbody>\n",
       "    <tr>\n",
       "      <th>4</th>\n",
       "      <td>The Night Listener</td>\n",
       "      <td>5.242415e-05</td>\n",
       "    </tr>\n",
       "    <tr>\n",
       "      <th>0</th>\n",
       "      <td>Just My Luck</td>\n",
       "      <td>-3.326312e-03</td>\n",
       "    </tr>\n",
       "    <tr>\n",
       "      <th>1</th>\n",
       "      <td>Lady in the Water</td>\n",
       "      <td>-4.432209e-03</td>\n",
       "    </tr>\n",
       "    <tr>\n",
       "      <th>3</th>\n",
       "      <td>Superman Returns</td>\n",
       "      <td>-3.402823e+38</td>\n",
       "    </tr>\n",
       "    <tr>\n",
       "      <th>2</th>\n",
       "      <td>Snakes on a Plane</td>\n",
       "      <td>-3.402823e+38</td>\n",
       "    </tr>\n",
       "  </tbody>\n",
       "</table>\n",
       "</div>"
      ],
      "text/plain": [
       "               movies        scores\n",
       "4  The Night Listener  5.242415e-05\n",
       "0        Just My Luck -3.326312e-03\n",
       "1   Lady in the Water -4.432209e-03\n",
       "3    Superman Returns -3.402823e+38\n",
       "2   Snakes on a Plane -3.402823e+38"
      ]
     },
     "execution_count": 20,
     "metadata": {},
     "output_type": "execute_result"
    }
   ],
   "source": [
    "toby = 6\n",
    "\n",
    "# recommend items for user.\n",
    "ids, scores = model.recommend(toby, user_items[toby], N=5)\n",
    "pd.DataFrame({\"movies\": movies[ids], \"scores\": scores}, index=ids)"
   ]
  },
  {
   "cell_type": "code",
   "execution_count": 21,
   "id": "39fa8c9d-c907-4677-bc97-89594d98c4ba",
   "metadata": {},
   "outputs": [
    {
     "data": {
      "text/html": [
       "<div>\n",
       "<style scoped>\n",
       "    .dataframe tbody tr th:only-of-type {\n",
       "        vertical-align: middle;\n",
       "    }\n",
       "\n",
       "    .dataframe tbody tr th {\n",
       "        vertical-align: top;\n",
       "    }\n",
       "\n",
       "    .dataframe thead th {\n",
       "        text-align: right;\n",
       "    }\n",
       "</style>\n",
       "<table border=\"1\" class=\"dataframe\">\n",
       "  <thead>\n",
       "    <tr style=\"text-align: right;\">\n",
       "      <th></th>\n",
       "      <th>movies</th>\n",
       "      <th>scores</th>\n",
       "    </tr>\n",
       "  </thead>\n",
       "  <tbody>\n",
       "    <tr>\n",
       "      <th>2</th>\n",
       "      <td>Snakes on a Plane</td>\n",
       "      <td>0.987136</td>\n",
       "    </tr>\n",
       "    <tr>\n",
       "      <th>5</th>\n",
       "      <td>You, Me and Dupree</td>\n",
       "      <td>0.192650</td>\n",
       "    </tr>\n",
       "    <tr>\n",
       "      <th>4</th>\n",
       "      <td>The Night Listener</td>\n",
       "      <td>0.065915</td>\n",
       "    </tr>\n",
       "    <tr>\n",
       "      <th>1</th>\n",
       "      <td>Lady in the Water</td>\n",
       "      <td>0.047937</td>\n",
       "    </tr>\n",
       "    <tr>\n",
       "      <th>0</th>\n",
       "      <td>Just My Luck</td>\n",
       "      <td>-0.007842</td>\n",
       "    </tr>\n",
       "  </tbody>\n",
       "</table>\n",
       "</div>"
      ],
      "text/plain": [
       "               movies    scores\n",
       "2   Snakes on a Plane  0.987136\n",
       "5  You, Me and Dupree  0.192650\n",
       "4  The Night Listener  0.065915\n",
       "1   Lady in the Water  0.047937\n",
       "0        Just My Luck -0.007842"
      ]
     },
     "execution_count": 21,
     "metadata": {},
     "output_type": "execute_result"
    }
   ],
   "source": [
    "superman = 3\n",
    "\n",
    "# find related items.\n",
    "ids, scores = model.similar_items(superman, N=5, filter_items=[superman])\n",
    "pd.DataFrame({\"movies\": movies[ids], \"scores\": scores}, index=ids)"
   ]
  },
  {
   "cell_type": "code",
   "execution_count": 22,
   "id": "0d1f2939-eeaa-4940-92ec-76b1a8d0200b",
   "metadata": {},
   "outputs": [
    {
     "data": {
      "text/html": [
       "<div>\n",
       "<style scoped>\n",
       "    .dataframe tbody tr th:only-of-type {\n",
       "        vertical-align: middle;\n",
       "    }\n",
       "\n",
       "    .dataframe tbody tr th {\n",
       "        vertical-align: top;\n",
       "    }\n",
       "\n",
       "    .dataframe thead th {\n",
       "        text-align: right;\n",
       "    }\n",
       "</style>\n",
       "<table border=\"1\" class=\"dataframe\">\n",
       "  <thead>\n",
       "    <tr style=\"text-align: right;\">\n",
       "      <th></th>\n",
       "      <th>users</th>\n",
       "      <th>scores</th>\n",
       "    </tr>\n",
       "  </thead>\n",
       "  <tbody>\n",
       "    <tr>\n",
       "      <th>2</th>\n",
       "      <td>Jack Matthews</td>\n",
       "      <td>0.786501</td>\n",
       "    </tr>\n",
       "    <tr>\n",
       "      <th>0</th>\n",
       "      <td>Claudia Puig</td>\n",
       "      <td>0.760317</td>\n",
       "    </tr>\n",
       "    <tr>\n",
       "      <th>1</th>\n",
       "      <td>Gene Seymour</td>\n",
       "      <td>0.754375</td>\n",
       "    </tr>\n",
       "    <tr>\n",
       "      <th>5</th>\n",
       "      <td>Mick LaSalle</td>\n",
       "      <td>0.752308</td>\n",
       "    </tr>\n",
       "    <tr>\n",
       "      <th>3</th>\n",
       "      <td>Lisa Rose</td>\n",
       "      <td>0.751921</td>\n",
       "    </tr>\n",
       "  </tbody>\n",
       "</table>\n",
       "</div>"
      ],
      "text/plain": [
       "           users    scores\n",
       "2  Jack Matthews  0.786501\n",
       "0   Claudia Puig  0.760317\n",
       "1   Gene Seymour  0.754375\n",
       "5   Mick LaSalle  0.752308\n",
       "3      Lisa Rose  0.751921"
      ]
     },
     "execution_count": 22,
     "metadata": {},
     "output_type": "execute_result"
    }
   ],
   "source": [
    "# find related users.\n",
    "toby = 6\n",
    "\n",
    "ids, scores = model.similar_users(toby, N=5, filter_users=[toby])\n",
    "pd.DataFrame({\"users\": users[ids], \"scores\": scores}, index=ids)"
   ]
  }
 ],
 "metadata": {
  "kernelspec": {
   "display_name": "Python 3 (ipykernel)",
   "language": "python",
   "name": "python3"
  },
  "language_info": {
   "codemirror_mode": {
    "name": "ipython",
    "version": 3
   },
   "file_extension": ".py",
   "mimetype": "text/x-python",
   "name": "python",
   "nbconvert_exporter": "python",
   "pygments_lexer": "ipython3",
   "version": "3.12.9"
  }
 },
 "nbformat": 4,
 "nbformat_minor": 5
}

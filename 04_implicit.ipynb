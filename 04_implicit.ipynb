{
 "cells": [
  {
   "cell_type": "code",
   "execution_count": 87,
   "id": "bd78aeb5-43b7-4a19-8922-26e6d41b0109",
   "metadata": {},
   "outputs": [],
   "source": [
    "import pandas as pd\n",
    "from implicit.nearest_neighbours import CosineRecommender\n",
    "from scipy.sparse import coo_matrix, csr_matrix\n",
    "from sklearn.metrics.pairwise import cosine_distances, cosine_similarity"
   ]
  },
  {
   "cell_type": "code",
   "execution_count": 88,
   "id": "7f0121e7-affd-4a3e-98e1-8e52df3b6a69",
   "metadata": {},
   "outputs": [
    {
     "data": {
      "text/html": [
       "<div>\n",
       "<style scoped>\n",
       "    .dataframe tbody tr th:only-of-type {\n",
       "        vertical-align: middle;\n",
       "    }\n",
       "\n",
       "    .dataframe tbody tr th {\n",
       "        vertical-align: top;\n",
       "    }\n",
       "\n",
       "    .dataframe thead th {\n",
       "        text-align: right;\n",
       "    }\n",
       "</style>\n",
       "<table border=\"1\" class=\"dataframe\">\n",
       "  <thead>\n",
       "    <tr style=\"text-align: right;\">\n",
       "      <th></th>\n",
       "      <th>users</th>\n",
       "      <th>movies</th>\n",
       "      <th>ratings</th>\n",
       "    </tr>\n",
       "  </thead>\n",
       "  <tbody>\n",
       "    <tr>\n",
       "      <th>0</th>\n",
       "      <td>Lisa Rose</td>\n",
       "      <td>Lady in the Water</td>\n",
       "      <td>2.5</td>\n",
       "    </tr>\n",
       "    <tr>\n",
       "      <th>1</th>\n",
       "      <td>Lisa Rose</td>\n",
       "      <td>Snakes on a Plane</td>\n",
       "      <td>3.5</td>\n",
       "    </tr>\n",
       "    <tr>\n",
       "      <th>2</th>\n",
       "      <td>Lisa Rose</td>\n",
       "      <td>Just My Luck</td>\n",
       "      <td>3.0</td>\n",
       "    </tr>\n",
       "    <tr>\n",
       "      <th>3</th>\n",
       "      <td>Lisa Rose</td>\n",
       "      <td>Superman Returns</td>\n",
       "      <td>3.5</td>\n",
       "    </tr>\n",
       "    <tr>\n",
       "      <th>4</th>\n",
       "      <td>Lisa Rose</td>\n",
       "      <td>You, Me and Dupree</td>\n",
       "      <td>2.5</td>\n",
       "    </tr>\n",
       "  </tbody>\n",
       "</table>\n",
       "</div>"
      ],
      "text/plain": [
       "       users              movies  ratings\n",
       "0  Lisa Rose   Lady in the Water      2.5\n",
       "1  Lisa Rose   Snakes on a Plane      3.5\n",
       "2  Lisa Rose        Just My Luck      3.0\n",
       "3  Lisa Rose    Superman Returns      3.5\n",
       "4  Lisa Rose  You, Me and Dupree      2.5"
      ]
     },
     "execution_count": 88,
     "metadata": {},
     "output_type": "execute_result"
    }
   ],
   "source": [
    "df = pd.read_csv(\"rating2.csv\")\n",
    "df.head()"
   ]
  },
  {
   "cell_type": "code",
   "execution_count": 89,
   "id": "e69c5c46-5eca-4c03-85ea-c0de22d48f6c",
   "metadata": {},
   "outputs": [
    {
     "data": {
      "text/html": [
       "<div>\n",
       "<style scoped>\n",
       "    .dataframe tbody tr th:only-of-type {\n",
       "        vertical-align: middle;\n",
       "    }\n",
       "\n",
       "    .dataframe tbody tr th {\n",
       "        vertical-align: top;\n",
       "    }\n",
       "\n",
       "    .dataframe thead th {\n",
       "        text-align: right;\n",
       "    }\n",
       "</style>\n",
       "<table border=\"1\" class=\"dataframe\">\n",
       "  <thead>\n",
       "    <tr style=\"text-align: right;\">\n",
       "      <th>movies</th>\n",
       "      <th>Just My Luck</th>\n",
       "      <th>Lady in the Water</th>\n",
       "      <th>Snakes on a Plane</th>\n",
       "      <th>Superman Returns</th>\n",
       "      <th>The Night Listener</th>\n",
       "      <th>You, Me and Dupree</th>\n",
       "    </tr>\n",
       "    <tr>\n",
       "      <th>users</th>\n",
       "      <th></th>\n",
       "      <th></th>\n",
       "      <th></th>\n",
       "      <th></th>\n",
       "      <th></th>\n",
       "      <th></th>\n",
       "    </tr>\n",
       "  </thead>\n",
       "  <tbody>\n",
       "    <tr>\n",
       "      <th>Claudia Puig</th>\n",
       "      <td>3.0</td>\n",
       "      <td>NaN</td>\n",
       "      <td>3.5</td>\n",
       "      <td>4.0</td>\n",
       "      <td>4.5</td>\n",
       "      <td>2.5</td>\n",
       "    </tr>\n",
       "    <tr>\n",
       "      <th>Gene Seymour</th>\n",
       "      <td>1.5</td>\n",
       "      <td>3.0</td>\n",
       "      <td>3.5</td>\n",
       "      <td>5.0</td>\n",
       "      <td>3.0</td>\n",
       "      <td>3.5</td>\n",
       "    </tr>\n",
       "    <tr>\n",
       "      <th>Jack Matthews</th>\n",
       "      <td>NaN</td>\n",
       "      <td>3.0</td>\n",
       "      <td>4.0</td>\n",
       "      <td>5.0</td>\n",
       "      <td>3.0</td>\n",
       "      <td>3.5</td>\n",
       "    </tr>\n",
       "    <tr>\n",
       "      <th>Lisa Rose</th>\n",
       "      <td>3.0</td>\n",
       "      <td>2.5</td>\n",
       "      <td>3.5</td>\n",
       "      <td>3.5</td>\n",
       "      <td>3.0</td>\n",
       "      <td>2.5</td>\n",
       "    </tr>\n",
       "    <tr>\n",
       "      <th>Michael Phillips</th>\n",
       "      <td>NaN</td>\n",
       "      <td>2.5</td>\n",
       "      <td>3.0</td>\n",
       "      <td>3.5</td>\n",
       "      <td>4.0</td>\n",
       "      <td>NaN</td>\n",
       "    </tr>\n",
       "    <tr>\n",
       "      <th>Mick LaSalle</th>\n",
       "      <td>2.0</td>\n",
       "      <td>3.0</td>\n",
       "      <td>4.0</td>\n",
       "      <td>3.0</td>\n",
       "      <td>3.0</td>\n",
       "      <td>2.0</td>\n",
       "    </tr>\n",
       "    <tr>\n",
       "      <th>Toby</th>\n",
       "      <td>NaN</td>\n",
       "      <td>NaN</td>\n",
       "      <td>4.5</td>\n",
       "      <td>4.0</td>\n",
       "      <td>NaN</td>\n",
       "      <td>1.0</td>\n",
       "    </tr>\n",
       "  </tbody>\n",
       "</table>\n",
       "</div>"
      ],
      "text/plain": [
       "movies            Just My Luck  Lady in the Water  Snakes on a Plane  \\\n",
       "users                                                                  \n",
       "Claudia Puig               3.0                NaN                3.5   \n",
       "Gene Seymour               1.5                3.0                3.5   \n",
       "Jack Matthews              NaN                3.0                4.0   \n",
       "Lisa Rose                  3.0                2.5                3.5   \n",
       "Michael Phillips           NaN                2.5                3.0   \n",
       "Mick LaSalle               2.0                3.0                4.0   \n",
       "Toby                       NaN                NaN                4.5   \n",
       "\n",
       "movies            Superman Returns  The Night Listener  You, Me and Dupree  \n",
       "users                                                                       \n",
       "Claudia Puig                   4.0                 4.5                 2.5  \n",
       "Gene Seymour                   5.0                 3.0                 3.5  \n",
       "Jack Matthews                  5.0                 3.0                 3.5  \n",
       "Lisa Rose                      3.5                 3.0                 2.5  \n",
       "Michael Phillips               3.5                 4.0                 NaN  \n",
       "Mick LaSalle                   3.0                 3.0                 2.0  \n",
       "Toby                           4.0                 NaN                 1.0  "
      ]
     },
     "execution_count": 89,
     "metadata": {},
     "output_type": "execute_result"
    }
   ],
   "source": [
    "utility = df.pivot(columns=\"movies\", index=\"users\", values=\"ratings\")\n",
    "utility"
   ]
  },
  {
   "cell_type": "code",
   "execution_count": 90,
   "id": "e720b92b-d736-482f-b0c1-f04f07e28608",
   "metadata": {},
   "outputs": [
    {
     "data": {
      "text/plain": [
       "array([[0.8847892]])"
      ]
     },
     "execution_count": 90,
     "metadata": {},
     "output_type": "execute_result"
    }
   ],
   "source": [
    "claudia = utility.iloc[0].fillna(0).values\n",
    "gene = utility.iloc[1].fillna(0).values\n",
    "cosine_similarity([claudia], [gene])"
   ]
  },
  {
   "cell_type": "code",
   "execution_count": 91,
   "id": "42ecf17d-b855-48dc-86c4-fa495b6f157e",
   "metadata": {},
   "outputs": [
    {
     "data": {
      "text/html": [
       "<div>\n",
       "<style scoped>\n",
       "    .dataframe tbody tr th:only-of-type {\n",
       "        vertical-align: middle;\n",
       "    }\n",
       "\n",
       "    .dataframe tbody tr th {\n",
       "        vertical-align: top;\n",
       "    }\n",
       "\n",
       "    .dataframe thead th {\n",
       "        text-align: right;\n",
       "    }\n",
       "</style>\n",
       "<table border=\"1\" class=\"dataframe\">\n",
       "  <thead>\n",
       "    <tr style=\"text-align: right;\">\n",
       "      <th></th>\n",
       "      <th>0</th>\n",
       "      <th>1</th>\n",
       "      <th>2</th>\n",
       "      <th>3</th>\n",
       "      <th>4</th>\n",
       "      <th>5</th>\n",
       "      <th>6</th>\n",
       "    </tr>\n",
       "  </thead>\n",
       "  <tbody>\n",
       "    <tr>\n",
       "      <th>0</th>\n",
       "      <td>1.000000</td>\n",
       "      <td>0.884789</td>\n",
       "      <td>0.834622</td>\n",
       "      <td>0.928841</td>\n",
       "      <td>0.807057</td>\n",
       "      <td>0.885658</td>\n",
       "      <td>0.702841</td>\n",
       "    </tr>\n",
       "    <tr>\n",
       "      <th>1</th>\n",
       "      <td>0.884789</td>\n",
       "      <td>1.000000</td>\n",
       "      <td>0.982325</td>\n",
       "      <td>0.960646</td>\n",
       "      <td>0.862337</td>\n",
       "      <td>0.955691</td>\n",
       "      <td>0.770024</td>\n",
       "    </tr>\n",
       "    <tr>\n",
       "      <th>2</th>\n",
       "      <td>0.834622</td>\n",
       "      <td>0.982325</td>\n",
       "      <td>1.000000</td>\n",
       "      <td>0.906551</td>\n",
       "      <td>0.880155</td>\n",
       "      <td>0.928989</td>\n",
       "      <td>0.805550</td>\n",
       "    </tr>\n",
       "    <tr>\n",
       "      <th>3</th>\n",
       "      <td>0.928841</td>\n",
       "      <td>0.960646</td>\n",
       "      <td>0.906551</td>\n",
       "      <td>1.000000</td>\n",
       "      <td>0.838220</td>\n",
       "      <td>0.981831</td>\n",
       "      <td>0.712501</td>\n",
       "    </tr>\n",
       "    <tr>\n",
       "      <th>4</th>\n",
       "      <td>0.807057</td>\n",
       "      <td>0.862337</td>\n",
       "      <td>0.880155</td>\n",
       "      <td>0.838220</td>\n",
       "      <td>1.000000</td>\n",
       "      <td>0.891702</td>\n",
       "      <td>0.683164</td>\n",
       "    </tr>\n",
       "    <tr>\n",
       "      <th>5</th>\n",
       "      <td>0.885658</td>\n",
       "      <td>0.955691</td>\n",
       "      <td>0.928989</td>\n",
       "      <td>0.981831</td>\n",
       "      <td>0.891702</td>\n",
       "      <td>1.000000</td>\n",
       "      <td>0.734179</td>\n",
       "    </tr>\n",
       "    <tr>\n",
       "      <th>6</th>\n",
       "      <td>0.702841</td>\n",
       "      <td>0.770024</td>\n",
       "      <td>0.805550</td>\n",
       "      <td>0.712501</td>\n",
       "      <td>0.683164</td>\n",
       "      <td>0.734179</td>\n",
       "      <td>1.000000</td>\n",
       "    </tr>\n",
       "  </tbody>\n",
       "</table>\n",
       "</div>"
      ],
      "text/plain": [
       "          0         1         2         3         4         5         6\n",
       "0  1.000000  0.884789  0.834622  0.928841  0.807057  0.885658  0.702841\n",
       "1  0.884789  1.000000  0.982325  0.960646  0.862337  0.955691  0.770024\n",
       "2  0.834622  0.982325  1.000000  0.906551  0.880155  0.928989  0.805550\n",
       "3  0.928841  0.960646  0.906551  1.000000  0.838220  0.981831  0.712501\n",
       "4  0.807057  0.862337  0.880155  0.838220  1.000000  0.891702  0.683164\n",
       "5  0.885658  0.955691  0.928989  0.981831  0.891702  1.000000  0.734179\n",
       "6  0.702841  0.770024  0.805550  0.712501  0.683164  0.734179  1.000000"
      ]
     },
     "execution_count": 91,
     "metadata": {},
     "output_type": "execute_result"
    }
   ],
   "source": [
    "users_to_users = pd.DataFrame(cosine_similarity(utility.fillna(0)))\n",
    "users_to_users"
   ]
  },
  {
   "cell_type": "code",
   "execution_count": 92,
   "id": "8ebadc39-85f1-47d9-8e61-e8b5643eea5a",
   "metadata": {},
   "outputs": [
    {
     "data": {
      "text/plain": [
       "[(1.0000000000000002, 'Toby'),\n",
       " (0.8055500405148401, 'Jack Matthews'),\n",
       " (0.7700242750941049, 'Gene Seymour'),\n",
       " (0.7341786512018111, 'Mick LaSalle'),\n",
       " (0.712500602099871, 'Lisa Rose'),\n",
       " (0.7028414122660656, 'Claudia Puig'),\n",
       " (0.6831639278011596, 'Michael Phillips')]"
      ]
     },
     "execution_count": 92,
     "metadata": {},
     "output_type": "execute_result"
    }
   ],
   "source": [
    "toby = 6\n",
    "scores = zip(users_to_users.loc[toby], utility.index)\n",
    "sorted(list(scores), key=lambda x: x[0], reverse=True)"
   ]
  },
  {
   "cell_type": "code",
   "execution_count": 96,
   "id": "0140f4fe-8ffa-42a1-b0b2-f600f3901010",
   "metadata": {},
   "outputs": [
    {
     "data": {
      "text/plain": [
       "array([[0.1152108]])"
      ]
     },
     "execution_count": 96,
     "metadata": {},
     "output_type": "execute_result"
    }
   ],
   "source": [
    "# 1 - cosine_similarity\n",
    "cosine_distances([claudia], [gene])"
   ]
  },
  {
   "cell_type": "code",
   "execution_count": 97,
   "id": "ad6707b7-5006-4f5b-9e00-f099db84cf85",
   "metadata": {},
   "outputs": [
    {
     "data": {
      "text/html": [
       "<div>\n",
       "<style scoped>\n",
       "    .dataframe tbody tr th:only-of-type {\n",
       "        vertical-align: middle;\n",
       "    }\n",
       "\n",
       "    .dataframe tbody tr th {\n",
       "        vertical-align: top;\n",
       "    }\n",
       "\n",
       "    .dataframe thead th {\n",
       "        text-align: right;\n",
       "    }\n",
       "</style>\n",
       "<table border=\"1\" class=\"dataframe\">\n",
       "  <thead>\n",
       "    <tr style=\"text-align: right;\">\n",
       "      <th></th>\n",
       "      <th>0</th>\n",
       "      <th>1</th>\n",
       "      <th>2</th>\n",
       "      <th>3</th>\n",
       "      <th>4</th>\n",
       "      <th>5</th>\n",
       "      <th>6</th>\n",
       "    </tr>\n",
       "  </thead>\n",
       "  <tbody>\n",
       "    <tr>\n",
       "      <th>0</th>\n",
       "      <td>0.000000</td>\n",
       "      <td>0.115211</td>\n",
       "      <td>0.165378</td>\n",
       "      <td>0.071159</td>\n",
       "      <td>0.192943</td>\n",
       "      <td>0.114342</td>\n",
       "      <td>0.297159</td>\n",
       "    </tr>\n",
       "    <tr>\n",
       "      <th>1</th>\n",
       "      <td>0.115211</td>\n",
       "      <td>0.000000</td>\n",
       "      <td>0.017675</td>\n",
       "      <td>0.039354</td>\n",
       "      <td>0.137663</td>\n",
       "      <td>0.044309</td>\n",
       "      <td>0.229976</td>\n",
       "    </tr>\n",
       "    <tr>\n",
       "      <th>2</th>\n",
       "      <td>0.165378</td>\n",
       "      <td>0.017675</td>\n",
       "      <td>0.000000</td>\n",
       "      <td>0.093449</td>\n",
       "      <td>0.119845</td>\n",
       "      <td>0.071011</td>\n",
       "      <td>0.194450</td>\n",
       "    </tr>\n",
       "    <tr>\n",
       "      <th>3</th>\n",
       "      <td>0.071159</td>\n",
       "      <td>0.039354</td>\n",
       "      <td>0.093449</td>\n",
       "      <td>0.000000</td>\n",
       "      <td>0.161780</td>\n",
       "      <td>0.018169</td>\n",
       "      <td>0.287499</td>\n",
       "    </tr>\n",
       "    <tr>\n",
       "      <th>4</th>\n",
       "      <td>0.192943</td>\n",
       "      <td>0.137663</td>\n",
       "      <td>0.119845</td>\n",
       "      <td>0.161780</td>\n",
       "      <td>0.000000</td>\n",
       "      <td>0.108298</td>\n",
       "      <td>0.316836</td>\n",
       "    </tr>\n",
       "    <tr>\n",
       "      <th>5</th>\n",
       "      <td>0.114342</td>\n",
       "      <td>0.044309</td>\n",
       "      <td>0.071011</td>\n",
       "      <td>0.018169</td>\n",
       "      <td>0.108298</td>\n",
       "      <td>0.000000</td>\n",
       "      <td>0.265821</td>\n",
       "    </tr>\n",
       "    <tr>\n",
       "      <th>6</th>\n",
       "      <td>0.297159</td>\n",
       "      <td>0.229976</td>\n",
       "      <td>0.194450</td>\n",
       "      <td>0.287499</td>\n",
       "      <td>0.316836</td>\n",
       "      <td>0.265821</td>\n",
       "      <td>0.000000</td>\n",
       "    </tr>\n",
       "  </tbody>\n",
       "</table>\n",
       "</div>"
      ],
      "text/plain": [
       "          0         1         2         3         4         5         6\n",
       "0  0.000000  0.115211  0.165378  0.071159  0.192943  0.114342  0.297159\n",
       "1  0.115211  0.000000  0.017675  0.039354  0.137663  0.044309  0.229976\n",
       "2  0.165378  0.017675  0.000000  0.093449  0.119845  0.071011  0.194450\n",
       "3  0.071159  0.039354  0.093449  0.000000  0.161780  0.018169  0.287499\n",
       "4  0.192943  0.137663  0.119845  0.161780  0.000000  0.108298  0.316836\n",
       "5  0.114342  0.044309  0.071011  0.018169  0.108298  0.000000  0.265821\n",
       "6  0.297159  0.229976  0.194450  0.287499  0.316836  0.265821  0.000000"
      ]
     },
     "execution_count": 97,
     "metadata": {},
     "output_type": "execute_result"
    }
   ],
   "source": [
    "users_to_users = pd.DataFrame(cosine_distances(utility.fillna(0)))\n",
    "users_to_users"
   ]
  },
  {
   "cell_type": "code",
   "execution_count": 98,
   "id": "9aff5591-dbe6-4ed9-81b7-35bd33e08687",
   "metadata": {},
   "outputs": [
    {
     "data": {
      "text/plain": [
       "[(0.31683607219884036, 'Michael Phillips'),\n",
       " (0.29715858773393444, 'Claudia Puig'),\n",
       " (0.287499397900129, 'Lisa Rose'),\n",
       " (0.26582134879818886, 'Mick LaSalle'),\n",
       " (0.22997572490589513, 'Gene Seymour'),\n",
       " (0.19444995948515986, 'Jack Matthews'),\n",
       " (0.0, 'Toby')]"
      ]
     },
     "execution_count": 98,
     "metadata": {},
     "output_type": "execute_result"
    }
   ],
   "source": [
    "toby = 6\n",
    "scores = zip(users_to_users.loc[toby], utility.index)\n",
    "sorted(list(scores), key=lambda x: x[0], reverse=True)"
   ]
  },
  {
   "cell_type": "code",
   "execution_count": 32,
   "id": "635bb228-6216-4821-aff9-05486ab96c9a",
   "metadata": {},
   "outputs": [
    {
     "data": {
      "text/html": [
       "<div>\n",
       "<style scoped>\n",
       "    .dataframe tbody tr th:only-of-type {\n",
       "        vertical-align: middle;\n",
       "    }\n",
       "\n",
       "    .dataframe tbody tr th {\n",
       "        vertical-align: top;\n",
       "    }\n",
       "\n",
       "    .dataframe thead th {\n",
       "        text-align: right;\n",
       "    }\n",
       "</style>\n",
       "<table border=\"1\" class=\"dataframe\">\n",
       "  <thead>\n",
       "    <tr style=\"text-align: right;\">\n",
       "      <th></th>\n",
       "      <th>users</th>\n",
       "      <th>movies</th>\n",
       "      <th>ratings</th>\n",
       "    </tr>\n",
       "  </thead>\n",
       "  <tbody>\n",
       "    <tr>\n",
       "      <th>0</th>\n",
       "      <td>Lisa Rose</td>\n",
       "      <td>Lady in the Water</td>\n",
       "      <td>2.5</td>\n",
       "    </tr>\n",
       "    <tr>\n",
       "      <th>1</th>\n",
       "      <td>Lisa Rose</td>\n",
       "      <td>Snakes on a Plane</td>\n",
       "      <td>3.5</td>\n",
       "    </tr>\n",
       "    <tr>\n",
       "      <th>2</th>\n",
       "      <td>Lisa Rose</td>\n",
       "      <td>Just My Luck</td>\n",
       "      <td>3.0</td>\n",
       "    </tr>\n",
       "    <tr>\n",
       "      <th>3</th>\n",
       "      <td>Lisa Rose</td>\n",
       "      <td>Superman Returns</td>\n",
       "      <td>3.5</td>\n",
       "    </tr>\n",
       "    <tr>\n",
       "      <th>4</th>\n",
       "      <td>Lisa Rose</td>\n",
       "      <td>You, Me and Dupree</td>\n",
       "      <td>2.5</td>\n",
       "    </tr>\n",
       "  </tbody>\n",
       "</table>\n",
       "</div>"
      ],
      "text/plain": [
       "       users              movies  ratings\n",
       "0  Lisa Rose   Lady in the Water      2.5\n",
       "1  Lisa Rose   Snakes on a Plane      3.5\n",
       "2  Lisa Rose        Just My Luck      3.0\n",
       "3  Lisa Rose    Superman Returns      3.5\n",
       "4  Lisa Rose  You, Me and Dupree      2.5"
      ]
     },
     "execution_count": 32,
     "metadata": {},
     "output_type": "execute_result"
    }
   ],
   "source": [
    "df[\"users\"] = df[\"users\"].astype(\"category\")\n",
    "df[\"movies\"] = df[\"movies\"].astype(\"category\")\n",
    "\n",
    "users = df.users.cat.categories\n",
    "movies = df.movies.cat.categories\n",
    "\n",
    "df.head()"
   ]
  },
  {
   "cell_type": "code",
   "execution_count": 33,
   "id": "7582ff0b-de35-43c6-9cca-ffa68f84912c",
   "metadata": {},
   "outputs": [
    {
     "data": {
      "text/plain": [
       "<Compressed Sparse Row sparse matrix of dtype 'float64'\n",
       "\twith 35 stored elements and shape (7, 6)>"
      ]
     },
     "execution_count": 33,
     "metadata": {},
     "output_type": "execute_result"
    }
   ],
   "source": [
    "ratings = coo_matrix(\n",
    "    (df[\"ratings\"].astype(float), (df[\"users\"].cat.codes, df[\"movies\"].cat.codes))\n",
    ").tocsr()\n",
    "ratings"
   ]
  },
  {
   "cell_type": "code",
   "execution_count": 34,
   "id": "8ee383da-44d4-4d09-90a7-716f7f9f9280",
   "metadata": {},
   "outputs": [
    {
     "data": {
      "application/vnd.jupyter.widget-view+json": {
       "model_id": "d57541c2da6649a7aa71e3d9266c07de",
       "version_major": 2,
       "version_minor": 0
      },
      "text/plain": [
       "  0%|          | 0/15 [00:00<?, ?it/s]"
      ]
     },
     "metadata": {},
     "output_type": "display_data"
    }
   ],
   "source": [
    "from implicit.cpu.als import AlternatingLeastSquares\n",
    "\n",
    "model = AlternatingLeastSquares()\n",
    "model.fit(ratings)"
   ]
  },
  {
   "cell_type": "code",
   "execution_count": 35,
   "id": "589b083a-e687-4270-a72a-935df05d641e",
   "metadata": {},
   "outputs": [
    {
     "data": {
      "text/plain": [
       "(array([4, 0, 1, 3, 2], dtype=int32),\n",
       " array([ 1.3303235e-03, -3.3636764e-03, -4.3621659e-03, -3.4028235e+38,\n",
       "        -3.4028235e+38], dtype=float32))"
      ]
     },
     "execution_count": 35,
     "metadata": {},
     "output_type": "execute_result"
    }
   ],
   "source": [
    "toby = 6\n",
    "\n",
    "# recommend items for user.\n",
    "ids, scores = model.recommend(toby, ratings[toby], N=5)\n",
    "ids, scores"
   ]
  },
  {
   "cell_type": "code",
   "execution_count": 36,
   "id": "add2b205-f4c5-4574-9b09-5e83f2a47fc0",
   "metadata": {},
   "outputs": [
    {
     "data": {
      "text/plain": [
       "Index(['The Night Listener', 'Just My Luck', 'Lady in the Water',\n",
       "       'Superman Returns', 'Snakes on a Plane'],\n",
       "      dtype='object')"
      ]
     },
     "execution_count": 36,
     "metadata": {},
     "output_type": "execute_result"
    }
   ],
   "source": [
    "movies[ids]"
   ]
  },
  {
   "cell_type": "code",
   "execution_count": 37,
   "id": "39fa8c9d-c907-4677-bc97-89594d98c4ba",
   "metadata": {},
   "outputs": [
    {
     "data": {
      "text/plain": [
       "(array([3, 2, 5, 4, 1], dtype=int32),\n",
       " array([0.9999999 , 0.98929787, 0.19689831, 0.06118698, 0.04498659],\n",
       "       dtype=float32))"
      ]
     },
     "execution_count": 37,
     "metadata": {},
     "output_type": "execute_result"
    }
   ],
   "source": [
    "superman = 3\n",
    "\n",
    "# find related items.\n",
    "ids, scores = model.similar_items(superman, N=5)\n",
    "ids, scores"
   ]
  },
  {
   "cell_type": "code",
   "execution_count": 13,
   "id": "853d2600-1de9-401e-a868-1f4e998689d8",
   "metadata": {},
   "outputs": [
    {
     "data": {
      "text/plain": [
       "Index(['Superman Returns', 'Snakes on a Plane', 'You, Me and Dupree',\n",
       "       'The Night Listener', 'Lady in the Water'],\n",
       "      dtype='object')"
      ]
     },
     "execution_count": 13,
     "metadata": {},
     "output_type": "execute_result"
    }
   ],
   "source": [
    "movies[ids]"
   ]
  },
  {
   "cell_type": "code",
   "execution_count": 14,
   "id": "0d1f2939-eeaa-4940-92ec-76b1a8d0200b",
   "metadata": {},
   "outputs": [
    {
     "data": {
      "text/plain": [
       "(array([6, 2, 0, 1, 5], dtype=int32),\n",
       " array([1.        , 0.78004295, 0.7573654 , 0.7568415 , 0.75485915],\n",
       "       dtype=float32))"
      ]
     },
     "execution_count": 14,
     "metadata": {},
     "output_type": "execute_result"
    }
   ],
   "source": [
    "# find related users.\n",
    "ids, scores = model.similar_users(toby, N=5)\n",
    "ids, scores"
   ]
  },
  {
   "cell_type": "code",
   "execution_count": 19,
   "id": "308b058b-9bcd-4526-b106-30603fe87da9",
   "metadata": {},
   "outputs": [
    {
     "data": {
      "text/plain": [
       "Index(['Michael Phillips', 'Gene Seymour', 'Mick LaSalle', 'Lisa Rose',\n",
       "       'Jack Matthews'],\n",
       "      dtype='object')"
      ]
     },
     "execution_count": 19,
     "metadata": {},
     "output_type": "execute_result"
    }
   ],
   "source": [
    "users[ids]"
   ]
  },
  {
   "cell_type": "markdown",
   "id": "7f52e097-9ed4-4639-a949-1ca6c4fbdb67",
   "metadata": {},
   "source": [
    "## Cosine Recommender"
   ]
  },
  {
   "cell_type": "code",
   "execution_count": 81,
   "id": "bc2dddd4-4993-4968-a8a2-324765bfccae",
   "metadata": {},
   "outputs": [
    {
     "name": "stderr",
     "output_type": "stream",
     "text": [
      "/Users/alextanhongpin/Documents/go/recommender-learn/.venv/lib/python3.12/site-packages/implicit/utils.py:164: ParameterWarning: Method expects CSR input, and was passed coo_matrix instead. Converting to CSR took 9.226799011230469e-05 seconds\n",
      "  warnings.warn(\n"
     ]
    },
    {
     "data": {
      "application/vnd.jupyter.widget-view+json": {
       "model_id": "a3a62caacb554f2d88eb7cd7950c5e82",
       "version_major": 2,
       "version_minor": 0
      },
      "text/plain": [
       "  0%|          | 0/6 [00:00<?, ?it/s]"
      ]
     },
     "metadata": {},
     "output_type": "display_data"
    }
   ],
   "source": [
    "model = CosineRecommender()\n",
    "model.fit(ratings)"
   ]
  },
  {
   "cell_type": "code",
   "execution_count": 111,
   "id": "5548464f-b7c0-4a4c-a6df-dd623872ef41",
   "metadata": {},
   "outputs": [
    {
     "data": {
      "text/plain": [
       "(array([4, 1, 0, 5, 3, 2], dtype=int32),\n",
       " array([8.28976852, 7.83288013, 6.64235501, 0.        , 0.        ,\n",
       "        0.        ]))"
      ]
     },
     "execution_count": 111,
     "metadata": {},
     "output_type": "execute_result"
    }
   ],
   "source": [
    "toby = 6\n",
    "ids, scores = model.recommend(\n",
    "    toby, ratings[toby], N=10, filter_already_liked_items=True\n",
    ")\n",
    "ids, scores"
   ]
  },
  {
   "cell_type": "code",
   "execution_count": 113,
   "id": "4e372809-b74a-48f1-b6fc-3c3f43281562",
   "metadata": {},
   "outputs": [
    {
     "name": "stdout",
     "output_type": "stream",
     "text": [
      "(np.int32(4), 'The Night Listener', np.float64(8.289768523180454))\n",
      "(np.int32(1), 'Lady in the Water', np.float64(7.832880132200684))\n",
      "(np.int32(0), 'Just My Luck', np.float64(6.642355005524493))\n",
      "(np.int32(5), 'You, Me and Dupree', np.float64(0.0))\n",
      "(np.int32(3), 'Superman Returns', np.float64(0.0))\n",
      "(np.int32(2), 'Snakes on a Plane', np.float64(0.0))\n"
     ]
    }
   ],
   "source": [
    "for row in zip(ids, movies[ids], scores):\n",
    "    print(row)"
   ]
  },
  {
   "cell_type": "code",
   "execution_count": 118,
   "id": "24ad42e5-8d1f-4fc1-84ed-e53f051fa280",
   "metadata": {},
   "outputs": [
    {
     "data": {
      "text/plain": [
       "(array([3, 2, 5, 4, 1, 0], dtype=int32),\n",
       " array([1.        , 0.97987806, 0.9153023 , 0.89217015, 0.83648645,\n",
       "        0.68022977]))"
      ]
     },
     "execution_count": 118,
     "metadata": {},
     "output_type": "execute_result"
    }
   ],
   "source": [
    "ids, scores = model.similar_items(superman)\n",
    "ids, scores"
   ]
  },
  {
   "cell_type": "code",
   "execution_count": 119,
   "id": "2bc1a4fa-14dc-4fb5-9c41-8f011d605706",
   "metadata": {},
   "outputs": [
    {
     "data": {
      "text/plain": [
       "Index(['Superman Returns', 'Snakes on a Plane', 'You, Me and Dupree',\n",
       "       'The Night Listener', 'Lady in the Water', 'Just My Luck'],\n",
       "      dtype='object')"
      ]
     },
     "execution_count": 119,
     "metadata": {},
     "output_type": "execute_result"
    }
   ],
   "source": [
    "movies[ids]"
   ]
  },
  {
   "cell_type": "code",
   "execution_count": 120,
   "id": "2f39986c-6f2c-455f-a181-5a2c3a1b400c",
   "metadata": {},
   "outputs": [
    {
     "name": "stderr",
     "output_type": "stream",
     "text": [
      "/Users/alextanhongpin/Documents/go/recommender-learn/.venv/lib/python3.12/site-packages/implicit/utils.py:164: ParameterWarning: Method expects CSR input, and was passed coo_matrix instead. Converting to CSR took 0.00012803077697753906 seconds\n",
      "  warnings.warn(\n"
     ]
    },
    {
     "data": {
      "application/vnd.jupyter.widget-view+json": {
       "model_id": "0ca7b305f92541c48deafeda21ff56ec",
       "version_major": 2,
       "version_minor": 0
      },
      "text/plain": [
       "  0%|          | 0/7 [00:00<?, ?it/s]"
      ]
     },
     "metadata": {},
     "output_type": "display_data"
    }
   ],
   "source": [
    "model = CosineRecommender()\n",
    "model.fit(ratings.T)"
   ]
  },
  {
   "cell_type": "code",
   "execution_count": 121,
   "id": "6e762437-a05e-4c8e-81a4-47d494c2c380",
   "metadata": {},
   "outputs": [
    {
     "data": {
      "text/plain": [
       "(array([6, 2, 1, 5, 3, 0, 4], dtype=int32),\n",
       " array([1.        , 0.80555004, 0.77002428, 0.73417865, 0.7125006 ,\n",
       "        0.70284141, 0.68316393]))"
      ]
     },
     "execution_count": 121,
     "metadata": {},
     "output_type": "execute_result"
    }
   ],
   "source": [
    "ids, scores = model.similar_items(toby)\n",
    "ids, scores"
   ]
  },
  {
   "cell_type": "code",
   "execution_count": 122,
   "id": "88262a6e-6221-47a7-afc9-1cbe8faf56b1",
   "metadata": {},
   "outputs": [
    {
     "data": {
      "text/plain": [
       "Index(['Toby', 'Jack Matthews', 'Gene Seymour', 'Mick LaSalle', 'Lisa Rose',\n",
       "       'Claudia Puig', 'Michael Phillips'],\n",
       "      dtype='object')"
      ]
     },
     "execution_count": 122,
     "metadata": {},
     "output_type": "execute_result"
    }
   ],
   "source": [
    "users[ids]"
   ]
  },
  {
   "cell_type": "code",
   "execution_count": null,
   "id": "24c4c203-7e22-4e25-8205-d0d172447276",
   "metadata": {},
   "outputs": [],
   "source": [
    "# [\n",
    "#     (1.0000000000000002, \"Toby\"),\n",
    "#     (0.8055500405148401, \"Jack Matthews\"),\n",
    "#     (0.7700242750941049, \"Gene Seymour\"),\n",
    "#     (0.7341786512018111, \"Mick LaSalle\"),\n",
    "#     (0.712500602099871, \"Lisa Rose\"),\n",
    "#     (0.7028414122660656, \"Claudia Puig\"),\n",
    "#     (0.6831639278011596, \"Michael Phillips\"),\n",
    "# ]"
   ]
  }
 ],
 "metadata": {
  "kernelspec": {
   "display_name": "Python 3 (ipykernel)",
   "language": "python",
   "name": "python3"
  },
  "language_info": {
   "codemirror_mode": {
    "name": "ipython",
    "version": 3
   },
   "file_extension": ".py",
   "mimetype": "text/x-python",
   "name": "python",
   "nbconvert_exporter": "python",
   "pygments_lexer": "ipython3",
   "version": "3.12.9"
  }
 },
 "nbformat": 4,
 "nbformat_minor": 5
}

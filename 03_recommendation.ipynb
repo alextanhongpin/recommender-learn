{
 "cells": [
  {
   "cell_type": "code",
   "execution_count": 1,
   "id": "conditional-reporter",
   "metadata": {},
   "outputs": [],
   "source": [
    "import pandas as pd"
   ]
  },
  {
   "cell_type": "code",
   "execution_count": 2,
   "id": "iraqi-movement",
   "metadata": {},
   "outputs": [
    {
     "data": {
      "text/html": [
       "<div>\n",
       "<style scoped>\n",
       "    .dataframe tbody tr th:only-of-type {\n",
       "        vertical-align: middle;\n",
       "    }\n",
       "\n",
       "    .dataframe tbody tr th {\n",
       "        vertical-align: top;\n",
       "    }\n",
       "\n",
       "    .dataframe thead th {\n",
       "        text-align: right;\n",
       "    }\n",
       "</style>\n",
       "<table border=\"1\" class=\"dataframe\">\n",
       "  <thead>\n",
       "    <tr style=\"text-align: right;\">\n",
       "      <th></th>\n",
       "      <th>users</th>\n",
       "      <th>movies</th>\n",
       "      <th>ratings</th>\n",
       "    </tr>\n",
       "  </thead>\n",
       "  <tbody>\n",
       "    <tr>\n",
       "      <th>0</th>\n",
       "      <td>Lisa Rose</td>\n",
       "      <td>Lady in the Water</td>\n",
       "      <td>2.5</td>\n",
       "    </tr>\n",
       "    <tr>\n",
       "      <th>1</th>\n",
       "      <td>Lisa Rose</td>\n",
       "      <td>Snakes on a Plane</td>\n",
       "      <td>3.5</td>\n",
       "    </tr>\n",
       "    <tr>\n",
       "      <th>2</th>\n",
       "      <td>Lisa Rose</td>\n",
       "      <td>Just My Luck</td>\n",
       "      <td>3.0</td>\n",
       "    </tr>\n",
       "    <tr>\n",
       "      <th>3</th>\n",
       "      <td>Lisa Rose</td>\n",
       "      <td>Superman Returns</td>\n",
       "      <td>3.5</td>\n",
       "    </tr>\n",
       "    <tr>\n",
       "      <th>4</th>\n",
       "      <td>Lisa Rose</td>\n",
       "      <td>You, Me and Dupree</td>\n",
       "      <td>2.5</td>\n",
       "    </tr>\n",
       "  </tbody>\n",
       "</table>\n",
       "</div>"
      ],
      "text/plain": [
       "       users              movies  ratings\n",
       "0  Lisa Rose   Lady in the Water      2.5\n",
       "1  Lisa Rose   Snakes on a Plane      3.5\n",
       "2  Lisa Rose        Just My Luck      3.0\n",
       "3  Lisa Rose    Superman Returns      3.5\n",
       "4  Lisa Rose  You, Me and Dupree      2.5"
      ]
     },
     "execution_count": 2,
     "metadata": {},
     "output_type": "execute_result"
    }
   ],
   "source": [
    "df = pd.read_csv(\"rating2.csv\")\n",
    "df.head()"
   ]
  },
  {
   "cell_type": "code",
   "execution_count": 3,
   "id": "beautiful-adobe",
   "metadata": {},
   "outputs": [
    {
     "data": {
      "text/html": [
       "<div>\n",
       "<style scoped>\n",
       "    .dataframe tbody tr th:only-of-type {\n",
       "        vertical-align: middle;\n",
       "    }\n",
       "\n",
       "    .dataframe tbody tr th {\n",
       "        vertical-align: top;\n",
       "    }\n",
       "\n",
       "    .dataframe thead th {\n",
       "        text-align: right;\n",
       "    }\n",
       "</style>\n",
       "<table border=\"1\" class=\"dataframe\">\n",
       "  <thead>\n",
       "    <tr style=\"text-align: right;\">\n",
       "      <th>movies</th>\n",
       "      <th>Just My Luck</th>\n",
       "      <th>Lady in the Water</th>\n",
       "      <th>Snakes on a Plane</th>\n",
       "      <th>Superman Returns</th>\n",
       "      <th>The Night Listener</th>\n",
       "      <th>You, Me and Dupree</th>\n",
       "    </tr>\n",
       "    <tr>\n",
       "      <th>users</th>\n",
       "      <th></th>\n",
       "      <th></th>\n",
       "      <th></th>\n",
       "      <th></th>\n",
       "      <th></th>\n",
       "      <th></th>\n",
       "    </tr>\n",
       "  </thead>\n",
       "  <tbody>\n",
       "    <tr>\n",
       "      <th>Claudia Puig</th>\n",
       "      <td>3.0</td>\n",
       "      <td>NaN</td>\n",
       "      <td>3.5</td>\n",
       "      <td>4.0</td>\n",
       "      <td>4.5</td>\n",
       "      <td>2.5</td>\n",
       "    </tr>\n",
       "    <tr>\n",
       "      <th>Gene Seymour</th>\n",
       "      <td>1.5</td>\n",
       "      <td>3.0</td>\n",
       "      <td>3.5</td>\n",
       "      <td>5.0</td>\n",
       "      <td>3.0</td>\n",
       "      <td>3.5</td>\n",
       "    </tr>\n",
       "    <tr>\n",
       "      <th>Jack Matthews</th>\n",
       "      <td>NaN</td>\n",
       "      <td>3.0</td>\n",
       "      <td>4.0</td>\n",
       "      <td>5.0</td>\n",
       "      <td>3.0</td>\n",
       "      <td>3.5</td>\n",
       "    </tr>\n",
       "    <tr>\n",
       "      <th>Lisa Rose</th>\n",
       "      <td>3.0</td>\n",
       "      <td>2.5</td>\n",
       "      <td>3.5</td>\n",
       "      <td>3.5</td>\n",
       "      <td>3.0</td>\n",
       "      <td>2.5</td>\n",
       "    </tr>\n",
       "    <tr>\n",
       "      <th>Michael Phillips</th>\n",
       "      <td>NaN</td>\n",
       "      <td>2.5</td>\n",
       "      <td>3.0</td>\n",
       "      <td>3.5</td>\n",
       "      <td>4.0</td>\n",
       "      <td>NaN</td>\n",
       "    </tr>\n",
       "    <tr>\n",
       "      <th>Mick LaSalle</th>\n",
       "      <td>2.0</td>\n",
       "      <td>3.0</td>\n",
       "      <td>4.0</td>\n",
       "      <td>3.0</td>\n",
       "      <td>3.0</td>\n",
       "      <td>2.0</td>\n",
       "    </tr>\n",
       "    <tr>\n",
       "      <th>Toby</th>\n",
       "      <td>NaN</td>\n",
       "      <td>NaN</td>\n",
       "      <td>4.5</td>\n",
       "      <td>4.0</td>\n",
       "      <td>NaN</td>\n",
       "      <td>1.0</td>\n",
       "    </tr>\n",
       "  </tbody>\n",
       "</table>\n",
       "</div>"
      ],
      "text/plain": [
       "movies            Just My Luck  Lady in the Water  Snakes on a Plane  \\\n",
       "users                                                                  \n",
       "Claudia Puig               3.0                NaN                3.5   \n",
       "Gene Seymour               1.5                3.0                3.5   \n",
       "Jack Matthews              NaN                3.0                4.0   \n",
       "Lisa Rose                  3.0                2.5                3.5   \n",
       "Michael Phillips           NaN                2.5                3.0   \n",
       "Mick LaSalle               2.0                3.0                4.0   \n",
       "Toby                       NaN                NaN                4.5   \n",
       "\n",
       "movies            Superman Returns  The Night Listener  You, Me and Dupree  \n",
       "users                                                                       \n",
       "Claudia Puig                   4.0                 4.5                 2.5  \n",
       "Gene Seymour                   5.0                 3.0                 3.5  \n",
       "Jack Matthews                  5.0                 3.0                 3.5  \n",
       "Lisa Rose                      3.5                 3.0                 2.5  \n",
       "Michael Phillips               3.5                 4.0                 NaN  \n",
       "Mick LaSalle                   3.0                 3.0                 2.0  \n",
       "Toby                           4.0                 NaN                 1.0  "
      ]
     },
     "execution_count": 3,
     "metadata": {},
     "output_type": "execute_result"
    }
   ],
   "source": [
    "# Every row is a user and every column is the items. If there are no ratings, leave it as NA\n",
    "utility_matrix = df.pivot(index=\"users\", columns=\"movies\", values=\"ratings\")\n",
    "# .fillna(0) Avoid filling with 0, as .corr() skips only N/A or NULL values, but not 0.\n",
    "\n",
    "# Remove the index to be able to query the table, and also set the 'users' column as the index.\n",
    "# utility_matrix = utility_matrix.reset_index().rename_axis(None, axis=1)\n",
    "\n",
    "utility_matrix"
   ]
  },
  {
   "cell_type": "code",
   "execution_count": 4,
   "id": "alert-accident",
   "metadata": {},
   "outputs": [],
   "source": [
    "# pandas.corr() finds the pearson correlation between all columns.\n",
    "# So for a given utility (user-item) matrix where each row is a user and each column\n",
    "# are items with ratings (or NaN), we transpose the utility matrix before calling .corr()\n",
    "def recommend(utility_matrix, target, n=5, user_based=True):\n",
    "    X = utility_matrix\n",
    "    if user_based:\n",
    "        X = X.T\n",
    "\n",
    "    if target not in X.columns:\n",
    "        return None\n",
    "\n",
    "    matches = X.corr()[target].sort_values(ascending=False)\n",
    "    matches = matches.drop(target).head(n)\n",
    "\n",
    "    return list(zip(matches.index, matches.values))"
   ]
  },
  {
   "cell_type": "code",
   "execution_count": 5,
   "id": "israeli-wales",
   "metadata": {},
   "outputs": [
    {
     "data": {
      "text/plain": [
       "[('Lisa Rose', np.float64(0.9912407071619305)),\n",
       " ('Mick LaSalle', np.float64(0.924473451641905)),\n",
       " ('Claudia Puig', np.float64(0.8934051474415641)),\n",
       " ('Jack Matthews', np.float64(0.6628489803598702)),\n",
       " ('Gene Seymour', np.float64(0.3812464258315117))]"
      ]
     },
     "execution_count": 5,
     "metadata": {},
     "output_type": "execute_result"
    }
   ],
   "source": [
    "users = utility_matrix.index\n",
    "toby = users[6]\n",
    "recommend(utility_matrix, toby)"
   ]
  },
  {
   "cell_type": "code",
   "execution_count": 6,
   "id": "cooperative-rebound",
   "metadata": {},
   "outputs": [
    {
     "data": {
      "text/plain": [
       "[('You, Me and Dupree', np.float64(0.6579516949597689)),\n",
       " ('Lady in the Water', np.float64(0.48795003647426655)),\n",
       " ('Snakes on a Plane', np.float64(0.1118033988749894)),\n",
       " ('The Night Listener', np.float64(-0.1798471947990542)),\n",
       " ('Just My Luck', np.float64(-0.4228900316110311))]"
      ]
     },
     "execution_count": 6,
     "metadata": {},
     "output_type": "execute_result"
    }
   ],
   "source": [
    "items = utility_matrix.columns\n",
    "superman_returns = items[3]\n",
    "recommend(utility_matrix, superman_returns, user_based=False)"
   ]
  },
  {
   "cell_type": "code",
   "execution_count": 7,
   "id": "military-salvation",
   "metadata": {},
   "outputs": [
    {
     "data": {
      "text/html": [
       "<div>\n",
       "<style scoped>\n",
       "    .dataframe tbody tr th:only-of-type {\n",
       "        vertical-align: middle;\n",
       "    }\n",
       "\n",
       "    .dataframe tbody tr th {\n",
       "        vertical-align: top;\n",
       "    }\n",
       "\n",
       "    .dataframe thead th {\n",
       "        text-align: right;\n",
       "    }\n",
       "</style>\n",
       "<table border=\"1\" class=\"dataframe\">\n",
       "  <thead>\n",
       "    <tr style=\"text-align: right;\">\n",
       "      <th>users</th>\n",
       "      <th>Claudia Puig</th>\n",
       "      <th>Gene Seymour</th>\n",
       "      <th>Jack Matthews</th>\n",
       "      <th>Lisa Rose</th>\n",
       "      <th>Michael Phillips</th>\n",
       "      <th>Mick LaSalle</th>\n",
       "      <th>Toby</th>\n",
       "    </tr>\n",
       "    <tr>\n",
       "      <th>users</th>\n",
       "      <th></th>\n",
       "      <th></th>\n",
       "      <th></th>\n",
       "      <th></th>\n",
       "      <th></th>\n",
       "      <th></th>\n",
       "      <th></th>\n",
       "    </tr>\n",
       "  </thead>\n",
       "  <tbody>\n",
       "    <tr>\n",
       "      <th>Claudia Puig</th>\n",
       "      <td>1.000000</td>\n",
       "      <td>0.314970</td>\n",
       "      <td>0.028571</td>\n",
       "      <td>0.566947</td>\n",
       "      <td>1.000000</td>\n",
       "      <td>0.566947</td>\n",
       "      <td>0.893405</td>\n",
       "    </tr>\n",
       "    <tr>\n",
       "      <th>Gene Seymour</th>\n",
       "      <td>0.314970</td>\n",
       "      <td>1.000000</td>\n",
       "      <td>0.963796</td>\n",
       "      <td>0.396059</td>\n",
       "      <td>0.204598</td>\n",
       "      <td>0.411765</td>\n",
       "      <td>0.381246</td>\n",
       "    </tr>\n",
       "    <tr>\n",
       "      <th>Jack Matthews</th>\n",
       "      <td>0.028571</td>\n",
       "      <td>0.963796</td>\n",
       "      <td>1.000000</td>\n",
       "      <td>0.747018</td>\n",
       "      <td>0.134840</td>\n",
       "      <td>0.211289</td>\n",
       "      <td>0.662849</td>\n",
       "    </tr>\n",
       "    <tr>\n",
       "      <th>Lisa Rose</th>\n",
       "      <td>0.566947</td>\n",
       "      <td>0.396059</td>\n",
       "      <td>0.747018</td>\n",
       "      <td>1.000000</td>\n",
       "      <td>0.404520</td>\n",
       "      <td>0.594089</td>\n",
       "      <td>0.991241</td>\n",
       "    </tr>\n",
       "    <tr>\n",
       "      <th>Michael Phillips</th>\n",
       "      <td>1.000000</td>\n",
       "      <td>0.204598</td>\n",
       "      <td>0.134840</td>\n",
       "      <td>0.404520</td>\n",
       "      <td>1.000000</td>\n",
       "      <td>-0.258199</td>\n",
       "      <td>-1.000000</td>\n",
       "    </tr>\n",
       "    <tr>\n",
       "      <th>Mick LaSalle</th>\n",
       "      <td>0.566947</td>\n",
       "      <td>0.411765</td>\n",
       "      <td>0.211289</td>\n",
       "      <td>0.594089</td>\n",
       "      <td>-0.258199</td>\n",
       "      <td>1.000000</td>\n",
       "      <td>0.924473</td>\n",
       "    </tr>\n",
       "    <tr>\n",
       "      <th>Toby</th>\n",
       "      <td>0.893405</td>\n",
       "      <td>0.381246</td>\n",
       "      <td>0.662849</td>\n",
       "      <td>0.991241</td>\n",
       "      <td>-1.000000</td>\n",
       "      <td>0.924473</td>\n",
       "      <td>1.000000</td>\n",
       "    </tr>\n",
       "  </tbody>\n",
       "</table>\n",
       "</div>"
      ],
      "text/plain": [
       "users             Claudia Puig  Gene Seymour  Jack Matthews  Lisa Rose  \\\n",
       "users                                                                    \n",
       "Claudia Puig          1.000000      0.314970       0.028571   0.566947   \n",
       "Gene Seymour          0.314970      1.000000       0.963796   0.396059   \n",
       "Jack Matthews         0.028571      0.963796       1.000000   0.747018   \n",
       "Lisa Rose             0.566947      0.396059       0.747018   1.000000   \n",
       "Michael Phillips      1.000000      0.204598       0.134840   0.404520   \n",
       "Mick LaSalle          0.566947      0.411765       0.211289   0.594089   \n",
       "Toby                  0.893405      0.381246       0.662849   0.991241   \n",
       "\n",
       "users             Michael Phillips  Mick LaSalle      Toby  \n",
       "users                                                       \n",
       "Claudia Puig              1.000000      0.566947  0.893405  \n",
       "Gene Seymour              0.204598      0.411765  0.381246  \n",
       "Jack Matthews             0.134840      0.211289  0.662849  \n",
       "Lisa Rose                 0.404520      0.594089  0.991241  \n",
       "Michael Phillips          1.000000     -0.258199 -1.000000  \n",
       "Mick LaSalle             -0.258199      1.000000  0.924473  \n",
       "Toby                     -1.000000      0.924473  1.000000  "
      ]
     },
     "execution_count": 7,
     "metadata": {},
     "output_type": "execute_result"
    }
   ],
   "source": [
    "utility_matrix.T.corr()"
   ]
  },
  {
   "cell_type": "code",
   "execution_count": 8,
   "id": "acute-establishment",
   "metadata": {},
   "outputs": [],
   "source": [
    "def top_matches(utility_matrix, idx, n=5, debug=False):\n",
    "    corr = utility_matrix.corr()\n",
    "    columns = corr.T.index  # Note that the column is transposed.\n",
    "\n",
    "    if debug:\n",
    "        print(\"Similar movies for: {}\\n\".format(columns[idx]))\n",
    "        print(corr[columns[idx]].sort_values(ascending=False))\n",
    "\n",
    "    matches = columns[corr[columns[idx]].values.argsort()[::-1]].tolist()\n",
    "\n",
    "    # Remove the current target to match the recommendation against.\n",
    "    matches.remove(columns[idx])\n",
    "\n",
    "    return columns[idx], matches[:n]"
   ]
  },
  {
   "cell_type": "code",
   "execution_count": 9,
   "id": "palestinian-qatar",
   "metadata": {},
   "outputs": [
    {
     "name": "stdout",
     "output_type": "stream",
     "text": [
      "Similar movies for: Toby\n",
      "\n",
      "users\n",
      "Toby                1.000000\n",
      "Lisa Rose           0.991241\n",
      "Mick LaSalle        0.924473\n",
      "Claudia Puig        0.893405\n",
      "Jack Matthews       0.662849\n",
      "Gene Seymour        0.381246\n",
      "Michael Phillips   -1.000000\n",
      "Name: Toby, dtype: float64\n",
      "\n",
      "Similar users to Toby:\n",
      "1. Lisa Rose\n",
      "2. Mick LaSalle\n",
      "3. Claudia Puig\n",
      "4. Jack Matthews\n",
      "5. Gene Seymour\n"
     ]
    }
   ],
   "source": [
    "target, matches = top_matches(utility_matrix.T, 6, debug=True)\n",
    "print(\"\\nSimilar users to {}:\".format(target))\n",
    "for i, user in enumerate(matches):\n",
    "    print(\"{}. {}\".format(i + 1, user))"
   ]
  },
  {
   "cell_type": "code",
   "execution_count": 10,
   "id": "elegant-anniversary",
   "metadata": {},
   "outputs": [
    {
     "name": "stdout",
     "output_type": "stream",
     "text": [
      "Similar movies for: Superman Returns\n",
      "\n",
      "movies\n",
      "Superman Returns      1.000000\n",
      "You, Me and Dupree    0.657952\n",
      "Lady in the Water     0.487950\n",
      "Snakes on a Plane     0.111803\n",
      "The Night Listener   -0.179847\n",
      "Just My Luck         -0.422890\n",
      "Name: Superman Returns, dtype: float64\n",
      "\n",
      "Similar movies to Superman Returns:\n",
      "1. You, Me and Dupree\n",
      "2. Lady in the Water\n",
      "3. Snakes on a Plane\n",
      "4. The Night Listener\n",
      "5. Just My Luck\n"
     ]
    }
   ],
   "source": [
    "target, matches = top_matches(utility_matrix, 3, debug=True)\n",
    "print(\"\\nSimilar movies to {}:\".format(target))\n",
    "for i, user in enumerate(matches):\n",
    "    print(\"{}. {}\".format(i + 1, user))"
   ]
  },
  {
   "cell_type": "code",
   "execution_count": 11,
   "id": "preceding-homework",
   "metadata": {},
   "outputs": [],
   "source": [
    "import matplotlib.pyplot as plt\n",
    "import seaborn as sns\n",
    "\n",
    "sns.set()"
   ]
  },
  {
   "cell_type": "code",
   "execution_count": 12,
   "id": "affected-pulse",
   "metadata": {},
   "outputs": [
    {
     "data": {
      "image/png": "[encoded data removed]",
      "text/plain": [
       "<Figure size 640x480 with 2 Axes>"
      ]
     },
     "metadata": {},
     "output_type": "display_data"
    }
   ],
   "source": [
    "sns.heatmap(utility_matrix.T.corr(), annot=True)\n",
    "plt.title(\"Similar users\");"
   ]
  },
  {
   "cell_type": "code",
   "execution_count": 13,
   "id": "strong-directory",
   "metadata": {},
   "outputs": [
    {
     "data": {
      "image/png": "[encoded data removed]",
      "text/plain": [
       "<Figure size 640x480 with 2 Axes>"
      ]
     },
     "metadata": {},
     "output_type": "display_data"
    }
   ],
   "source": [
    "sns.heatmap(utility_matrix.corr(), annot=True)\n",
    "plt.title(\"Similar movies\");"
   ]
  },
  {
   "cell_type": "code",
   "execution_count": 14,
   "id": "taken-ozone",
   "metadata": {},
   "outputs": [],
   "source": [
    "from sklearn.decomposition import NMF, TruncatedSVD\n",
    "\n",
    "# TruncatedSVD does not deal with missing data, and setting it to 0 is not accurate.\n",
    "X = utility_matrix.fillna(0)\n",
    "model = TruncatedSVD(n_components=5, random_state=0)\n",
    "decomposed_matrix = model.fit_transform(X)"
   ]
  },
  {
   "cell_type": "code",
   "execution_count": 15,
   "id": "jewish-studio",
   "metadata": {},
   "outputs": [
    {
     "data": {
      "text/plain": [
       "(7, 6)"
      ]
     },
     "execution_count": 15,
     "metadata": {},
     "output_type": "execute_result"
    }
   ],
   "source": [
    "X.shape"
   ]
  },
  {
   "cell_type": "code",
   "execution_count": 16,
   "id": "driving-intention",
   "metadata": {},
   "outputs": [
    {
     "data": {
      "text/plain": [
       "'Toby'"
      ]
     },
     "execution_count": 16,
     "metadata": {},
     "output_type": "execute_result"
    }
   ],
   "source": [
    "idx = 6\n",
    "X.index[idx]"
   ]
  },
  {
   "cell_type": "code",
   "execution_count": 17,
   "id": "middle-smoke",
   "metadata": {},
   "outputs": [
    {
     "data": {
      "text/plain": [
       "(7, 7)"
      ]
     },
     "execution_count": 17,
     "metadata": {},
     "output_type": "execute_result"
    }
   ],
   "source": [
    "import numpy as np\n",
    "\n",
    "# Correlation matrix\n",
    "correlation_matrix = np.corrcoef(decomposed_matrix)\n",
    "correlation_matrix.shape"
   ]
  },
  {
   "cell_type": "code",
   "execution_count": 18,
   "id": "atlantic-aviation",
   "metadata": {},
   "outputs": [
    {
     "data": {
      "text/html": [
       "<div>\n",
       "<style scoped>\n",
       "    .dataframe tbody tr th:only-of-type {\n",
       "        vertical-align: middle;\n",
       "    }\n",
       "\n",
       "    .dataframe tbody tr th {\n",
       "        vertical-align: top;\n",
       "    }\n",
       "\n",
       "    .dataframe thead th {\n",
       "        text-align: right;\n",
       "    }\n",
       "</style>\n",
       "<table border=\"1\" class=\"dataframe\">\n",
       "  <thead>\n",
       "    <tr style=\"text-align: right;\">\n",
       "      <th></th>\n",
       "      <th>movies</th>\n",
       "      <th>score</th>\n",
       "    </tr>\n",
       "  </thead>\n",
       "  <tbody>\n",
       "    <tr>\n",
       "      <th>6</th>\n",
       "      <td>Toby</td>\n",
       "      <td>1.000000</td>\n",
       "    </tr>\n",
       "    <tr>\n",
       "      <th>5</th>\n",
       "      <td>Mick LaSalle</td>\n",
       "      <td>0.913975</td>\n",
       "    </tr>\n",
       "    <tr>\n",
       "      <th>2</th>\n",
       "      <td>Jack Matthews</td>\n",
       "      <td>0.882745</td>\n",
       "    </tr>\n",
       "    <tr>\n",
       "      <th>1</th>\n",
       "      <td>Gene Seymour</td>\n",
       "      <td>0.882089</td>\n",
       "    </tr>\n",
       "    <tr>\n",
       "      <th>3</th>\n",
       "      <td>Lisa Rose</td>\n",
       "      <td>0.873134</td>\n",
       "    </tr>\n",
       "    <tr>\n",
       "      <th>0</th>\n",
       "      <td>Claudia Puig</td>\n",
       "      <td>0.736670</td>\n",
       "    </tr>\n",
       "    <tr>\n",
       "      <th>4</th>\n",
       "      <td>Michael Phillips</td>\n",
       "      <td>0.734033</td>\n",
       "    </tr>\n",
       "  </tbody>\n",
       "</table>\n",
       "</div>"
      ],
      "text/plain": [
       "             movies     score\n",
       "6              Toby  1.000000\n",
       "5      Mick LaSalle  0.913975\n",
       "2     Jack Matthews  0.882745\n",
       "1      Gene Seymour  0.882089\n",
       "3         Lisa Rose  0.873134\n",
       "0      Claudia Puig  0.736670\n",
       "4  Michael Phillips  0.734033"
      ]
     },
     "execution_count": 18,
     "metadata": {},
     "output_type": "execute_result"
    }
   ],
   "source": [
    "pd.DataFrame(\n",
    "    {\n",
    "        \"movies\": X.index,\n",
    "        \"score\": correlation_matrix[idx],\n",
    "    }\n",
    ").sort_values(by=\"score\", ascending=False)"
   ]
  },
  {
   "cell_type": "markdown",
   "id": "adjustable-paradise",
   "metadata": {},
   "source": [
    "Similar users to Toby:\n",
    "\n",
    "1. Lisa Rose\n",
    "2. Mick LaSalle\n",
    "3. Claudia Puig\n",
    "4. Jack Matthews\n",
    "5. Gene Seymour"
   ]
  },
  {
   "cell_type": "code",
   "execution_count": 19,
   "id": "criminal-romance",
   "metadata": {},
   "outputs": [
    {
     "data": {
      "text/plain": [
       "array([[2.99992519e+00, 1.63004041e-04, 3.49995716e+00, 4.00046684e+00,\n",
       "        4.49997688e+00, 2.50015944e+00],\n",
       "       [1.49985882e+00, 3.00000747e+00, 3.50003258e+00, 4.99992248e+00,\n",
       "        3.00003259e+00, 3.50006241e+00],\n",
       "       [5.22969211e-06, 3.00003230e+00, 3.99994427e+00, 4.99988801e+00,\n",
       "        3.00002924e+00, 3.50001314e+00],\n",
       "       [2.99997763e+00, 2.49995313e+00, 3.50009691e+00, 3.50021056e+00,\n",
       "        3.00003544e+00, 2.49992782e+00],\n",
       "       [2.29103417e-07, 2.50016001e+00, 2.99993601e+00, 3.49937928e+00,\n",
       "        4.00013175e+00, 4.51301577e-03],\n",
       "       [2.00015391e+00, 2.99986324e+00, 3.99999153e+00, 3.00048013e+00,\n",
       "        3.00000121e+00, 1.99980952e+00],\n",
       "       [5.07410523e-05, 3.11260092e-04, 4.50003321e+00, 3.99968809e+00,\n",
       "        3.11251638e-04, 9.99879961e-01]])"
      ]
     },
     "execution_count": 19,
     "metadata": {},
     "output_type": "execute_result"
    }
   ],
   "source": [
    "# Matrix Factorization\n",
    "# NMF does not deal with missing data, and setting it to 0 is not accurate.\n",
    "# https://github.com/scikit-learn/scikit-learn/issues/8447\n",
    "# The solution is to drop those with NA, but that's not what we want to achieve since we want to predict the ratings with matrix factorization.\n",
    "X = utility_matrix.fillna(0)\n",
    "model = NMF(n_components=X.shape[0], init=\"random\", random_state=0)\n",
    "W = model.fit_transform(X)\n",
    "H = model.components_\n",
    "nR = np.dot(W, H)\n",
    "nR"
   ]
  },
  {
   "cell_type": "code",
   "execution_count": 20,
   "id": "hybrid-medline",
   "metadata": {},
   "outputs": [
    {
     "data": {
      "text/plain": [
       "Index(['Jack Matthews', 'Lisa Rose', 'Mick LaSalle', 'Gene Seymour',\n",
       "       'Michael Phillips', 'Claudia Puig'],\n",
       "      dtype='object', name='users')"
      ]
     },
     "execution_count": 20,
     "metadata": {},
     "output_type": "execute_result"
    }
   ],
   "source": [
    "X.index[nR[idx].argsort()[::-1]]"
   ]
  },
  {
   "cell_type": "code",
   "execution_count": 21,
   "id": "second-jacob",
   "metadata": {},
   "outputs": [],
   "source": [
    "# TODO: Check surprise matrix factorization.\n",
    "# https://surprise.readthedocs.io/en/stable/matrix_factorization.html"
   ]
  },
  {
   "cell_type": "code",
   "execution_count": 22,
   "id": "another-spring",
   "metadata": {},
   "outputs": [
    {
     "data": {
      "text/plain": [
       "Index(['Jack Matthews', 'Lisa Rose', 'Mick LaSalle', 'Gene Seymour',\n",
       "       'Michael Phillips', 'Claudia Puig'],\n",
       "      dtype='object', name='users')"
      ]
     },
     "execution_count": 22,
     "metadata": {},
     "output_type": "execute_result"
    }
   ],
   "source": [
    "nR = np.dot(W[idx], H)\n",
    "X.index[nR.argsort()[::-1]]"
   ]
  },
  {
   "cell_type": "code",
   "execution_count": 23,
   "id": "planned-perry",
   "metadata": {},
   "outputs": [
    {
     "data": {
      "text/plain": [
       "array([3.44166086e-04, 0.00000000e+00, 0.00000000e+00, 1.60906273e+00,\n",
       "       0.00000000e+00, 3.00694404e+00, 0.00000000e+00])"
      ]
     },
     "execution_count": 23,
     "metadata": {},
     "output_type": "execute_result"
    }
   ],
   "source": [
    "W[idx]"
   ]
  },
  {
   "cell_type": "code",
   "execution_count": 24,
   "id": "complimentary-residence",
   "metadata": {},
   "outputs": [
    {
     "name": "stdout",
     "output_type": "stream",
     "text": [
      "Ratings for  Index(['Just My Luck', 'Lady in the Water', 'Snakes on a Plane',\n",
      "       'Superman Returns', 'The Night Listener', 'You, Me and Dupree'],\n",
      "      dtype='object', name='movies')\n"
     ]
    },
    {
     "data": {
      "text/plain": [
       "Index(['Lisa Rose', 'Jack Matthews', 'Mick LaSalle', 'Gene Seymour',\n",
       "       'Michael Phillips', 'Claudia Puig'],\n",
       "      dtype='object', name='users')"
      ]
     },
     "execution_count": 24,
     "metadata": {},
     "output_type": "execute_result"
    }
   ],
   "source": [
    "# Since we have \"learned\" the latent features through SVD, we can now generate ratings and find similar users to existing user pool.\n",
    "print(\"Ratings for \", X.columns)\n",
    "nR = np.dot([4, 0, 0, 2, 0, 3, 0], H)\n",
    "X.index[nR.argsort()[::-1]]"
   ]
  }
 ],
 "metadata": {
  "kernelspec": {
   "display_name": "Python 3 (ipykernel)",
   "language": "python",
   "name": "python3"
  },
  "language_info": {
   "codemirror_mode": {
    "name": "ipython",
    "version": 3
   },
   "file_extension": ".py",
   "mimetype": "text/x-python",
   "name": "python",
   "nbconvert_exporter": "python",
   "pygments_lexer": "ipython3",
   "version": "3.12.9"
  }
 },
 "nbformat": 4,
 "nbformat_minor": 5
}
